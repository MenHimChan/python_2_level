{
 "cells": [
  {
   "cell_type": "markdown",
   "metadata": {},
   "source": [
    "# LIST"
   ]
  },
  {
   "cell_type": "markdown",
   "metadata": {},
   "source": [
    "## 1. 概述\n",
    "list内可以存放不同数据类型的元素，也没有长度限制\n"
   ]
  },
  {
   "cell_type": "code",
   "execution_count": 2,
   "metadata": {},
   "outputs": [
    {
     "name": "stdout",
     "output_type": "stream",
     "text": [
      "[1, '2', 'i love u', (4+5j), True]\n",
      "1\n",
      "<class 'int'>\n",
      "2\n",
      "<class 'str'>\n",
      "i love u\n",
      "<class 'str'>\n",
      "(4+5j)\n",
      "<class 'complex'>\n",
      "True\n",
      "<class 'bool'>\n"
     ]
    }
   ],
   "source": [
    "a = [1, '2', \"i love u\", 4 + 5j, True]\n",
    "print(a)\n",
    "print(a[0])\n",
    "print(type(a[0]))\n",
    "print(a[1])\n",
    "print(type(a[1]))\n",
    "print(a[2])\n",
    "print(type(a[2]))\n",
    "print(a[3])\n",
    "print(type(a[3]))\n",
    "print(a[4])\n",
    "print(type(a[4]))"
   ]
  },
  {
   "cell_type": "markdown",
   "metadata": {},
   "source": [
    "## 2. list的长度"
   ]
  },
  {
   "cell_type": "code",
   "execution_count": 3,
   "metadata": {},
   "outputs": [
    {
     "name": "stdout",
     "output_type": "stream",
     "text": [
      "5\n"
     ]
    }
   ],
   "source": [
    "print(len(a))"
   ]
  },
  {
   "cell_type": "markdown",
   "metadata": {},
   "source": [
    "## 3. 增删元素\n",
    "### 3.0 .append()方法"
   ]
  },
  {
   "cell_type": "code",
   "execution_count": 4,
   "metadata": {},
   "outputs": [
    {
     "name": "stdout",
     "output_type": "stream",
     "text": [
      "123456\n",
      "<class 'str'>\n"
     ]
    }
   ],
   "source": [
    "# 在list的末尾添加元素\n",
    "a.append(\"123456\")\n",
    "print(a[5])\n",
    "print(type(a[5]))"
   ]
  },
  {
   "cell_type": "markdown",
   "metadata": {},
   "source": [
    "### 3.1 .insert()方法"
   ]
  },
  {
   "cell_type": "code",
   "execution_count": 5,
   "metadata": {},
   "outputs": [
    {
     "name": "stdout",
     "output_type": "stream",
     "text": [
      "insert\n",
      "<class 'str'>\n"
     ]
    }
   ],
   "source": [
    "# 在list的指定位置添加元素\n",
    "# arg1: 插入位置的索引\n",
    "# arg2: 要插入的元素\n",
    "a.insert(1, \"insert\")\n",
    "print(a[1])\n",
    "print(type(a[1]))"
   ]
  },
  {
   "cell_type": "markdown",
   "metadata": {},
   "source": [
    "### 3.2 .remove()方法"
   ]
  },
  {
   "cell_type": "code",
   "execution_count": 6,
   "metadata": {},
   "outputs": [
    {
     "name": "stdout",
     "output_type": "stream",
     "text": [
      "2\n",
      "<class 'str'>\n"
     ]
    }
   ],
   "source": [
    "# 删除list中第一个匹配的元素\n",
    "a.remove(\"insert\")\n",
    "print(a[1])\n",
    "print(type(a[1]))"
   ]
  },
  {
   "cell_type": "markdown",
   "metadata": {},
   "source": [
    "### 3.3 .pop()方法"
   ]
  },
  {
   "cell_type": "code",
   "execution_count": 7,
   "metadata": {},
   "outputs": [
    {
     "name": "stdout",
     "output_type": "stream",
     "text": [
      "[1, '2', 'i love u', (4+5j), True, '123456']\n",
      "[1, '2', 'i love u', (4+5j), True]\n",
      "[1, 'i love u', (4+5j), True]\n"
     ]
    }
   ],
   "source": [
    "# .pop()方法\n",
    "# 无参数：删除list中最后一个元素\n",
    "# 有参数：删除list中指定位置的元素\n",
    "print(a)\n",
    "a.pop()                     # 删除了元素：\"123456\"\n",
    "print(a)\n",
    "a.pop(1)                    # 删除了索引为1的元素: '2'\n",
    "print(a)"
   ]
  },
  {
   "cell_type": "markdown",
   "metadata": {},
   "source": [
    "## 4. list其他方法"
   ]
  },
  {
   "cell_type": "markdown",
   "metadata": {},
   "source": [
    "### 4.1 .count()方法"
   ]
  },
  {
   "cell_type": "code",
   "execution_count": 8,
   "metadata": {},
   "outputs": [
    {
     "name": "stdout",
     "output_type": "stream",
     "text": [
      "4\n"
     ]
    }
   ],
   "source": [
    "num = [1,2,1,1,4,6,9,10,11,1]\n",
    "print(num.count(1))         # 统计元素1出现的次数"
   ]
  },
  {
   "cell_type": "markdown",
   "metadata": {},
   "source": [
    "### 4.2 .extend()方法"
   ]
  },
  {
   "cell_type": "code",
   "execution_count": 9,
   "metadata": {},
   "outputs": [
    {
     "name": "stdout",
     "output_type": "stream",
     "text": [
      "[1, 2, 3, 4, 5, 6, 7, 8]\n"
     ]
    }
   ],
   "source": [
    "# 将b列表中的元素拼接到a中\n",
    "a = [1,2,3,4]\n",
    "b = [5,6,7,8]\n",
    "a.extend(b)\n",
    "print(a)"
   ]
  },
  {
   "cell_type": "markdown",
   "metadata": {},
   "source": [
    "### 4.3 .index()方法"
   ]
  },
  {
   "cell_type": "code",
   "execution_count": 10,
   "metadata": {},
   "outputs": [
    {
     "name": "stdout",
     "output_type": "stream",
     "text": [
      "0\n"
     ]
    }
   ],
   "source": [
    "# 查找元素1在list中的索引\n",
    "print(a.index(1))"
   ]
  },
  {
   "cell_type": "markdown",
   "metadata": {},
   "source": [
    "### 4.4 .reverse()方法"
   ]
  },
  {
   "cell_type": "code",
   "execution_count": 11,
   "metadata": {},
   "outputs": [
    {
     "data": {
      "text/plain": [
       "[8, 7, 6, 5, 4, 3, 2, 1]"
      ]
     },
     "execution_count": 11,
     "metadata": {},
     "output_type": "execute_result"
    }
   ],
   "source": [
    "# 给整个列表直接反转顺序\n",
    "a.reverse()\n",
    "a"
   ]
  },
  {
   "cell_type": "markdown",
   "metadata": {},
   "source": [
    "### 4.5 .sort()方法"
   ]
  },
  {
   "cell_type": "code",
   "execution_count": 12,
   "metadata": {},
   "outputs": [
    {
     "name": "stdout",
     "output_type": "stream",
     "text": [
      "[1, 2, 3, 4, 5, 6, 7, 8]\n",
      "[8, 7, 6, 5, 4, 3, 2, 1]\n"
     ]
    }
   ],
   "source": [
    "# 给整个列表排序，直接是对原列表进行排序\n",
    "# 不填参数：默认从小到大升序排序\n",
    "a.sort()\n",
    "print(a)\n",
    "# 填参数：从大到小降序排序\n",
    "a.sort(reverse=True)\n",
    "print(a)"
   ]
  },
  {
   "cell_type": "markdown",
   "metadata": {},
   "source": [
    "### 4.6 .sorted()方法"
   ]
  },
  {
   "cell_type": "code",
   "execution_count": 13,
   "metadata": {},
   "outputs": [
    {
     "name": "stdout",
     "output_type": "stream",
     "text": [
      "[1, 1, 1, 3, 4, 5, 23, 341, 346]\n",
      "[1, 4, 1, 3, 341, 1, 346, 23, 5]\n"
     ]
    }
   ],
   "source": [
    "# 给整个列表排序, 并返回一个新的列表\n",
    "# 保持原来的列表不变\n",
    "arr = [1,4,1,3,341,1,346,23,5]\n",
    "arr_sorted = sorted(arr)\n",
    "print(arr_sorted)\n",
    "print(arr)"
   ]
  },
  {
   "cell_type": "markdown",
   "metadata": {},
   "source": [
    "### 4.7 循环打印list"
   ]
  },
  {
   "cell_type": "code",
   "execution_count": 14,
   "metadata": {},
   "outputs": [
    {
     "name": "stdout",
     "output_type": "stream",
     "text": [
      "1 4 1 3 341 1 346 23 5 \n",
      "1 1 1 3 4 5 23 341 346 "
     ]
    }
   ],
   "source": [
    "for i in arr:\n",
    "    print(i, end=\" \")\n",
    "print()\n",
    "\n",
    "for i in arr_sorted:\n",
    "    print(i, end=\" \")"
   ]
  },
  {
   "cell_type": "markdown",
   "metadata": {},
   "source": [
    "### 4.8 列表切片"
   ]
  },
  {
   "cell_type": "code",
   "execution_count": 15,
   "metadata": {},
   "outputs": [
    {
     "name": "stdout",
     "output_type": "stream",
     "text": [
      "arr: [1, 4, 1, 3, 341, 1, 346, 23, 5]\n",
      "arr[ : ] = [1, 4, 1, 3, 341, 1, 346, 23, 5]\n",
      "arr[0 : 9] = [1, 4, 1, 3, 341, 1, 346, 23, 5]\n",
      "arr[ : 3] = [1, 4, 1]\n",
      "arr[3 : ] = [3, 341, 1, 346, 23, 5]\n",
      "-------------------------------------\n",
      "arr[ :  : -1] = [5, 23, 346, 1, 341, 3, 1, 4, 1]\n",
      "arr[-1 : -9 : -1] = [5, 23, 346, 1, 341, 3, 1, 4]\n",
      "arr[-1 :  : -1] = [5, 23, 346, 1, 341, 3, 1, 4, 1]\n",
      "arr[-1 : -9 : -2] = [5, 346, 341, 1]\n"
     ]
    }
   ],
   "source": [
    "# 正序切片索引：0 - len(arr)\n",
    "# 逆序切片索引：-1 - -len(arr)\n",
    "print(\"arr:\", arr)\n",
    "print(\"arr[ : ] =\", arr[:])\n",
    "print(\"arr[0 : 9] =\", arr[0:9])\n",
    "print(\"arr[ : 3] =\", arr[:3])\n",
    "print(\"arr[3 : ] =\", arr[3:])\n",
    "print(\"-------------------------------------\")\n",
    "# ------------------------------------------\n",
    "print(\"arr[ :  : -1] =\", arr[::-1])\n",
    "print(\"arr[-1 : -9 : -1] =\", arr[-1:-9:-1])\n",
    "print(\"arr[-1 :  : -1] =\", arr[-1::-1])\n",
    "print(\"arr[-1 : -9 : -2] =\", arr[-1:-9:-2])"
   ]
  },
  {
   "cell_type": "markdown",
   "metadata": {},
   "source": [
    "### 4.9 list元素检查"
   ]
  },
  {
   "cell_type": "code",
   "execution_count": 16,
   "metadata": {},
   "outputs": [
    {
     "name": "stdout",
     "output_type": "stream",
     "text": [
      "True\n"
     ]
    }
   ],
   "source": [
    "print(1 in arr)"
   ]
  },
  {
   "cell_type": "code",
   "execution_count": null,
   "metadata": {},
   "outputs": [],
   "source": []
  }
 ],
 "metadata": {
  "kernelspec": {
   "display_name": "base",
   "language": "python",
   "name": "python3"
  },
  "language_info": {
   "codemirror_mode": {
    "name": "ipython",
    "version": 3
   },
   "file_extension": ".py",
   "mimetype": "text/x-python",
   "name": "python",
   "nbconvert_exporter": "python",
   "pygments_lexer": "ipython3",
   "version": "3.10.9"
  }
 },
 "nbformat": 4,
 "nbformat_minor": 2
}
