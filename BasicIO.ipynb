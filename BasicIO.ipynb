{
 "cells": [
  {
   "cell_type": "markdown",
   "metadata": {},
   "source": [
    "# 基本输入输出函数\n",
    "## 1. 输入函数\n"
   ]
  },
  {
   "cell_type": "code",
   "execution_count": 4,
   "metadata": {},
   "outputs": [
    {
     "name": "stdout",
     "output_type": "stream",
     "text": [
      "<class 'bool'>\n"
     ]
    }
   ],
   "source": [
    "# input()函数\n",
    "name = input(\"请输入你的名字：\")\n",
    "print(type(name))"
   ]
  },
  {
   "cell_type": "code",
   "execution_count": 10,
   "metadata": {},
   "outputs": [
    {
     "name": "stdout",
     "output_type": "stream",
     "text": [
      "123412\n",
      "<class 'int'>\n"
     ]
    }
   ],
   "source": [
    "def mult(\n",
    "        a: int = 0,\n",
    "        b: int = 0,\n",
    "    ) -> int:\n",
    "    return a * b\n",
    "\n",
    "# eval()函数\n",
    "# def eval(\n",
    "#     source: str | ReadableBuffer | CodeType,\n",
    "#     globals: dict[str, Any] | None = None,\n",
    "#     locals: Mapping[str, object] | None = None,\n",
    "#     /\n",
    "# ) -> Any\n",
    "\n",
    "name2 = eval(input(\"请输入一个python语句：\"))       # 输入mult(100,1000)\n",
    "print(name2)\n",
    "print(type(name2))"
   ]
  },
  {
   "cell_type": "code",
   "execution_count": 24,
   "metadata": {},
   "outputs": [
    {
     "name": "stdout",
     "output_type": "stream",
     "text": [
      "Python - is - fun!\n",
      "(1, 2, 3, 4, 5) - (1, 2, 3, 4, 5, 6)?\n",
      "My name is Tom, and I am 24.24 years old.\n",
      "My name is Tom, and I am 24.241234 years old.\n"
     ]
    }
   ],
   "source": [
    "# print()函数\n",
    "# (function) def print(\n",
    "#     *values: object,\n",
    "#     sep: str | None = \" \",\n",
    "#     end: str | None = \"\\n\",\n",
    "#     file: SupportsWrite[str] | None = None,\n",
    "#     flush: Literal[False] = False\n",
    "# ) -> None\n",
    "age = 24.241234\n",
    "name = 'Tom'\n",
    "print(\"Python\", \"is\", \"fun\", sep=\" - \", end=\"!\\n\")\n",
    "print((1,2,3,4,5),(1,2,3,4,5,6), sep=\" - \", end=\"?\\n\")\n",
    "\n",
    "# 格式化输出\n",
    "print(f'My name is {name}, and I am {age:.2f} years old.')\n",
    "print(\"My name is {name}, and I am {age} years old.\".format(name=name, age=age))\n"
   ]
  },
  {
   "cell_type": "code",
   "execution_count": 5,
   "metadata": {},
   "outputs": [
    {
     "name": "stdout",
     "output_type": "stream",
     "text": [
      "0\n",
      "5\n",
      "15\n"
     ]
    }
   ],
   "source": [
    "def add(\n",
    "        a: int = 0, \n",
    "        b: int = 0,\n",
    "        /,\n",
    "    ) -> int:\n",
    "    return a + b\n",
    "\n",
    "print(add())        # 输出: 0 （a 和 b 都使用默认值）\n",
    "print(add(5))       # 输出: 5 （a=5, b 使用默认值）\n",
    "print(add(5, 10))   # 输出: 15 （a=5, b=10）"
   ]
  },
  {
   "cell_type": "code",
   "execution_count": 13,
   "metadata": {},
   "outputs": [
    {
     "name": "stdout",
     "output_type": "stream",
     "text": [
      "True\n",
      "True\n"
     ]
    }
   ],
   "source": [
    "a = ' hello world  '\n",
    "b = 10\n",
    "b = str(b)\n",
    "print(isinstance(a, str))\n",
    "print(isinstance(b, str))"
   ]
  }
 ],
 "metadata": {
  "kernelspec": {
   "display_name": "base",
   "language": "python",
   "name": "python3"
  },
  "language_info": {
   "codemirror_mode": {
    "name": "ipython",
    "version": 3
   },
   "file_extension": ".py",
   "mimetype": "text/x-python",
   "name": "python",
   "nbconvert_exporter": "python",
   "pygments_lexer": "ipython3",
   "version": "3.10.9"
  }
 },
 "nbformat": 4,
 "nbformat_minor": 2
}
