{
 "cells": [
  {
   "cell_type": "code",
   "execution_count": null,
   "metadata": {},
   "outputs": [
    {
     "name": "stdout",
     "output_type": "stream",
     "text": [
      "Hi, I'm Alice and I'm 25 years old.\n"
     ]
    }
   ],
   "source": [
    "# 类的普通写法\n",
    "class Person:\n",
    "    def __init__(self, name, age):\n",
    "        self.name = name\n",
    "        self.age = age\n",
    "\n",
    "    def introduce(self):\n",
    "        \"\"\"定义类的方法\"\"\"\n",
    "        print(f\"Hi, I'm {self.name} and I'm {self.age} years old.\")\n",
    "\n",
    "# 创建对象\n",
    "person1 = Person(\"Alice\", 25)\n",
    "person1.introduce()  # 输出: Hi, I'm Alice and I'm 25 years old"
   ]
  },
  {
   "cell_type": "code",
   "execution_count": 2,
   "metadata": {},
   "outputs": [
    {
     "name": "stdout",
     "output_type": "stream",
     "text": [
      "Buddy barks!\n",
      "Dog\n"
     ]
    }
   ],
   "source": [
    "# 类的继承\n",
    "class Animal:\n",
    "    def __init__(self, species):\n",
    "        self.species = species\n",
    "\n",
    "    def sound(self):\n",
    "        print(\"Some generic animal sound.\")\n",
    "\n",
    "# 继承 Animal 类\n",
    "class Dog(Animal):\n",
    "    def __init__(self, name, breed):\n",
    "        super().__init__(\"Dog\")  # 调用父类的 __init__\n",
    "        self.name = name\n",
    "        self.breed = breed\n",
    "\n",
    "    def sound(self):\n",
    "        print(f\"{self.name} barks!\")\n",
    "\n",
    "# 创建 Dog 对象\n",
    "dog1 = Dog(\"Buddy\", \"Golden Retriever\")\n",
    "dog1.sound()  # 输出: Buddy barks!\n",
    "print(dog1.species)  # 输出: Dog\n"
   ]
  },
  {
   "cell_type": "code",
   "execution_count": 9,
   "metadata": {},
   "outputs": [
    {
     "name": "stdout",
     "output_type": "stream",
     "text": [
      "Employee Name: John Doe, ID: 001\n"
     ]
    },
    {
     "data": {
      "text/plain": [
       "5000"
      ]
     },
     "execution_count": 9,
     "metadata": {},
     "output_type": "execute_result"
    }
   ],
   "source": [
    "class Employee:\n",
    "    def __init__(self, name, id):\n",
    "        self.name = name\n",
    "        self.id = id\n",
    "\n",
    "    def print_info(self):\n",
    "        print(f\"Employee Name: {self.name}, ID: {self.id}\")\n",
    "\n",
    "class FullTimeEmployee(Employee):\n",
    "    def __init__(self, name, id, monthly_salary):\n",
    "        super().__init__(name, id)          # name, id的初始化调用父类的初始化函数\n",
    "        self.monthly_salary = monthly_salary\n",
    "\n",
    "    def calculate_monthly_pay(self):\n",
    "        return self.monthly_salary\n",
    "\n",
    "class PartTimeEmployee(Employee):\n",
    "    def __init__(self, name, id, daily_salary, work_days):\n",
    "        super().__init__(name, id)       # name, id的初始化调用父类的初始化函数\n",
    "        self.daily_salary = daily_salary\n",
    "        self.work_days = work_days\n",
    "\n",
    "    def calculate_monthly_pay(self):\n",
    "        return self.daily_salary * self.work_days\n",
    "\n",
    "\n",
    "# class实例化给对象\n",
    "# name = \"John Doe\" \n",
    "# id = 001 \n",
    "# monthly_salary = 5000\n",
    "full_time_employee1 = FullTimeEmployee(\"John Doe\", \"001\", 5000)\n",
    "full_time_employee1.print_info()  # 输出: Employee Name: John Doe, ID: 001\n",
    "full_time_employee1.calculate_monthly_pay()  # 输出: 5000"
   ]
  },
  {
   "cell_type": "code",
   "execution_count": 8,
   "metadata": {},
   "outputs": [
    {
     "name": "stdout",
     "output_type": "stream",
     "text": [
      "Employee Name: Jane Smith, ID: 002\n"
     ]
    },
    {
     "data": {
      "text/plain": [
       "2000"
      ]
     },
     "execution_count": 8,
     "metadata": {},
     "output_type": "execute_result"
    }
   ],
   "source": [
    "# name = \"Jane Smith\"\n",
    "# id = 002\n",
    "# daily_salary = 100\n",
    "# work_days = 20\n",
    "part_time_employee1 = PartTimeEmployee(\"Jane Smith\", \"002\", 100, 20)\n",
    "part_time_employee1.print_info()  # 输出: Employee Name: Jane Smith, ID: 002\n",
    "part_time_employee1.calculate_monthly_pay()  # 输出: 2000"
   ]
  },
  {
   "cell_type": "code",
   "execution_count": null,
   "metadata": {},
   "outputs": [],
   "source": []
  }
 ],
 "metadata": {
  "kernelspec": {
   "display_name": "base",
   "language": "python",
   "name": "python3"
  },
  "language_info": {
   "codemirror_mode": {
    "name": "ipython",
    "version": 3
   },
   "file_extension": ".py",
   "mimetype": "text/x-python",
   "name": "python",
   "nbconvert_exporter": "python",
   "pygments_lexer": "ipython3",
   "version": "3.10.9"
  }
 },
 "nbformat": 4,
 "nbformat_minor": 2
}
