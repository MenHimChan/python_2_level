{
 "cells": [
  {
   "cell_type": "code",
   "execution_count": null,
   "metadata": {},
   "outputs": [
    {
     "name": "stdout",
     "output_type": "stream",
     "text": [
      "<class 'NameError'>\n",
      "捕获到 NameError: name 'y' is not defined\n"
     ]
    }
   ],
   "source": [
    "# 示例 1: 捕获 NameError\n",
    "try:\n",
    "    print(y)  # y 未定义，会引发 NameError\n",
    "except NameError as e:\n",
    "    print(type(e))\n",
    "    print(f\"NameError: {e}\")"
   ]
  },
  {
   "cell_type": "code",
   "execution_count": null,
   "metadata": {},
   "outputs": [
    {
     "name": "stdout",
     "output_type": "stream",
     "text": [
      "<class 'TypeError'>\n",
      "TypeError: can only concatenate str (not \"int\") to str\n"
     ]
    }
   ],
   "source": [
    "# 示例 2: 捕获 TypeError\n",
    "try:\n",
    "    result = \"5\" + 5  # 字符串和整数不能相加，会引发 TypeError\n",
    "except TypeError as e:\n",
    "    print(type(e))\n",
    "    print(f\"TypeError: {e}\")"
   ]
  },
  {
   "cell_type": "code",
   "execution_count": 17,
   "metadata": {},
   "outputs": [
    {
     "name": "stdout",
     "output_type": "stream",
     "text": [
      "<class 'NameError'>\n",
      "Exception: name 'y' is not defined\n",
      "无论是否发生异常，都会执行 finally 块\n"
     ]
    }
   ],
   "source": [
    "# 示例 3: 捕获多个异常\n",
    "try:\n",
    "    print(y)\n",
    "    x = int(\"abc\")  # 无法将字符串转换为整数，会引发 ValueError\n",
    "except ValueError as e:\n",
    "    print(type(e))\n",
    "    print(f\"ValueError: {e}\")\n",
    "except Exception as e:  # 捕获其他异常\n",
    "    print(type(e))\n",
    "    print(f\"Exception: {e}\")\n",
    "else:\n",
    "    print(\"没有发生异常\")\n",
    "finally:\n",
    "    print(\"无论是否发生异常，都会执行 finally 块\")"
   ]
  },
  {
   "cell_type": "code",
   "execution_count": null,
   "metadata": {},
   "outputs": [
    {
     "name": "stdout",
     "output_type": "stream",
     "text": [
      "<class 'NameError'> name 'y' is not defined\n",
      "(\"name 'y' is not defined\",)\n",
      "发生了异常\n"
     ]
    }
   ],
   "source": [
    "try:\n",
    "    print(y)\n",
    "# as e 相当于是将异常赋值给e这个变量\n",
    "except Exception as e:\n",
    "    print(type(e), str(e))\n",
    "    print(e.args)\n",
    "    print(\"发生了异常\")"
   ]
  },
  {
   "cell_type": "code",
   "execution_count": null,
   "metadata": {},
   "outputs": [],
   "source": []
  }
 ],
 "metadata": {
  "kernelspec": {
   "display_name": "base",
   "language": "python",
   "name": "python3"
  },
  "language_info": {
   "codemirror_mode": {
    "name": "ipython",
    "version": 3
   },
   "file_extension": ".py",
   "mimetype": "text/x-python",
   "name": "python",
   "nbconvert_exporter": "python",
   "pygments_lexer": "ipython3",
   "version": "3.10.9"
  }
 },
 "nbformat": 4,
 "nbformat_minor": 2
}
