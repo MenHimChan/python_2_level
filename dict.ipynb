{
 "cells": [
  {
   "cell_type": "markdown",
   "metadata": {},
   "source": [
    "# Dict 字典\n",
    "+ 字典是键值对的无序集合\n",
    "+ 键可是python中任意一种不可变的数据，且在同个字典中键是唯一的\n",
    "    + 如字符串、数字、元组，但是不能是list\n",
    "+ 值可以是不唯一的\n",
    "+ 字典是\"{}\"表示\n",
    "\n",
    "\n",
    "## 1. 字典的创建与访问"
   ]
  },
  {
   "cell_type": "code",
   "execution_count": 72,
   "metadata": {},
   "outputs": [
    {
     "name": "stdout",
     "output_type": "stream",
     "text": [
      "{'a': 1, 'b': 2, 'c': 3}\n",
      "dict1['a'] =  1\n",
      "{'a': 1, 'b': 2, 'c': 3}\n",
      "{(1, 2): 1, (2, 3): 2, (3, 4): 3}\n",
      "dict3[(1,2)] =  1\n"
     ]
    }
   ],
   "source": [
    "# 字典的创建\n",
    "dict1 = dict(a=1, b=2, c=3)             # 通过dict函数创建\n",
    "print(dict1)\n",
    "print(\"dict1['a'] = \", dict1['a'])\n",
    "\n",
    "\n",
    "dict2 = {'a': 1, 'b': 2, 'c': 3}        # 直接赋值\n",
    "print(dict2)\n",
    "\n",
    "# 字典的key可以是任何不可变的数据类型，eg：字符串，元组\n",
    "dict3 = dict((((1,2), 1), ((2, 3), 2), ((3, 4), 3)))\n",
    "print(dict3)\n",
    "print(\"dict3[(1,2)] = \", dict3[(1,2)])"
   ]
  },
  {
   "cell_type": "markdown",
   "metadata": {},
   "source": [
    "## 2. 字典的增删"
   ]
  },
  {
   "cell_type": "code",
   "execution_count": 73,
   "metadata": {},
   "outputs": [
    {
     "name": "stdout",
     "output_type": "stream",
     "text": [
      "{'a': 1, 'b': 2, 'c': 3, 'd': 4}\n",
      "{'a': 1, 'b': 2, 'c': 3}\n"
     ]
    },
    {
     "data": {
      "text/plain": [
       "1"
      ]
     },
     "execution_count": 73,
     "metadata": {},
     "output_type": "execute_result"
    }
   ],
   "source": [
    "# 字典的增\n",
    "# 字典的增删操作都是通过key进行的\n",
    "dict4 = {'a': 1, 'b': 2, 'c': 3}\n",
    "dict4['d'] = 4\n",
    "print(dict4)\n",
    "\n",
    "# 字典的删\n",
    "# del关键字删除字典中的键值对\n",
    "del dict4['d']\n",
    "print(dict4)\n",
    "# pop方法删除字典中的键值对，并返回对应的值\n",
    "dict4.pop('a')"
   ]
  },
  {
   "cell_type": "code",
   "execution_count": 74,
   "metadata": {},
   "outputs": [
    {
     "name": "stdout",
     "output_type": "stream",
     "text": [
      "{'b': 2, 'c': 3}\n"
     ]
    }
   ],
   "source": [
    "print(dict4)"
   ]
  },
  {
   "cell_type": "markdown",
   "metadata": {},
   "source": [
    "## 3. 字典的遍历"
   ]
  },
  {
   "cell_type": "code",
   "execution_count": 75,
   "metadata": {},
   "outputs": [
    {
     "name": "stdout",
     "output_type": "stream",
     "text": [
      "dict_items([('a', 1), ('b', 2), ('c', 3), ('d', 4), ('e', 5), ('f', 6)])\n",
      "<class 'dict_items'>\n"
     ]
    }
   ],
   "source": [
    "# dict的遍历\n",
    "dict5 = {'a': 1, 'b': 2, 'c': 3, 'd': 4, 'e': 5, 'f': 6}\n",
    "print(dict5.items())\n",
    "print(type(dict5.items()))"
   ]
  },
  {
   "cell_type": "code",
   "execution_count": 76,
   "metadata": {},
   "outputs": [
    {
     "name": "stdout",
     "output_type": "stream",
     "text": [
      "a 1\n",
      "b 2\n",
      "c 3\n",
      "d 4\n",
      "e 5\n",
      "f 6\n"
     ]
    }
   ],
   "source": [
    "# for in遍历\n",
    "for key, value in dict5.items():\n",
    "    print(key, value)"
   ]
  },
  {
   "cell_type": "markdown",
   "metadata": {},
   "source": [
    "**`.item`方法返回的是元组类型的key-value pair**"
   ]
  },
  {
   "cell_type": "code",
   "execution_count": 77,
   "metadata": {},
   "outputs": [
    {
     "name": "stdout",
     "output_type": "stream",
     "text": [
      "('a', 1)\n",
      "type(key) = <class 'tuple'>\n",
      "type(key) = <class 'str'>\n",
      "type(key) = <class 'int'>\n",
      "key[0] = a\n",
      "key[1] = 1\n",
      "('b', 2)\n",
      "type(key) = <class 'tuple'>\n",
      "type(key) = <class 'str'>\n",
      "type(key) = <class 'int'>\n",
      "key[0] = b\n",
      "key[1] = 2\n",
      "('c', 3)\n",
      "type(key) = <class 'tuple'>\n",
      "type(key) = <class 'str'>\n",
      "type(key) = <class 'int'>\n",
      "key[0] = c\n",
      "key[1] = 3\n",
      "('d', 4)\n",
      "type(key) = <class 'tuple'>\n",
      "type(key) = <class 'str'>\n",
      "type(key) = <class 'int'>\n",
      "key[0] = d\n",
      "key[1] = 4\n",
      "('e', 5)\n",
      "type(key) = <class 'tuple'>\n",
      "type(key) = <class 'str'>\n",
      "type(key) = <class 'int'>\n",
      "key[0] = e\n",
      "key[1] = 5\n",
      "('f', 6)\n",
      "type(key) = <class 'tuple'>\n",
      "type(key) = <class 'str'>\n",
      "type(key) = <class 'int'>\n",
      "key[0] = f\n",
      "key[1] = 6\n"
     ]
    }
   ],
   "source": [
    "for key in dict5.items():\n",
    "    print(key)\n",
    "    print(\"type(key) =\",type(key))\n",
    "    print(\"type(key) =\",type(key[0]))\n",
    "    print(\"type(key) =\",type(key[1]))\n",
    "    print(\"key[0] =\",(key[0]))\n",
    "    print(\"key[1] =\",(key[1]))"
   ]
  },
  {
   "cell_type": "code",
   "execution_count": 78,
   "metadata": {},
   "outputs": [
    {
     "name": "stdout",
     "output_type": "stream",
     "text": [
      "('a', 1)\n",
      "('b', 2)\n",
      "('c', 3)\n",
      "('d', 4)\n",
      "('e', 5)\n",
      "('f', 6)\n"
     ]
    }
   ],
   "source": [
    "for value in dict5.items():\n",
    "    print(value)"
   ]
  },
  {
   "cell_type": "code",
   "execution_count": 79,
   "metadata": {},
   "outputs": [
    {
     "name": "stdout",
     "output_type": "stream",
     "text": [
      "a\n",
      "type(key) = <class 'str'>\n",
      "b\n",
      "type(key) = <class 'str'>\n",
      "c\n",
      "type(key) = <class 'str'>\n",
      "d\n",
      "type(key) = <class 'str'>\n",
      "e\n",
      "type(key) = <class 'str'>\n",
      "f\n",
      "type(key) = <class 'str'>\n",
      "1\n",
      "type(value) = <class 'int'>\n",
      "2\n",
      "type(value) = <class 'int'>\n",
      "3\n",
      "type(value) = <class 'int'>\n",
      "4\n",
      "type(value) = <class 'int'>\n",
      "5\n",
      "type(value) = <class 'int'>\n",
      "6\n",
      "type(value) = <class 'int'>\n"
     ]
    }
   ],
   "source": [
    "for key in dict5.keys():\n",
    "    print(key)\n",
    "    print(\"type(key) =\",type(key))\n",
    "for value in dict5.values():\n",
    "    print(value)\n",
    "    print(\"type(value) =\",type(value))"
   ]
  },
  {
   "cell_type": "markdown",
   "metadata": {},
   "source": [
    "## 4. 字典的操作方法"
   ]
  },
  {
   "cell_type": "code",
   "execution_count": 80,
   "metadata": {},
   "outputs": [
    {
     "name": "stdout",
     "output_type": "stream",
     "text": [
      "{'a': 1, 'b': 2, 'c': 3, 'd': 4, 'e': 5, 'f': 6}\n"
     ]
    },
    {
     "data": {
      "text/plain": [
       "{}"
      ]
     },
     "execution_count": 80,
     "metadata": {},
     "output_type": "execute_result"
    }
   ],
   "source": [
    "# clear方法\n",
    "# clear方法清空字典中的所有键值对\n",
    "dict6 = {'a': 1, 'b': 2, 'c': 3, 'd': 4, 'e': 5, 'f': 6}\n",
    "print(dict6)\n",
    "dict6.clear()\n",
    "dict6"
   ]
  },
  {
   "cell_type": "code",
   "execution_count": 81,
   "metadata": {},
   "outputs": [
    {
     "name": "stdout",
     "output_type": "stream",
     "text": [
      "{'a': 1, 'b': 2, 'c': 3, 'd': 4, 'e': 5, 'f': 6}\n",
      "{}\n"
     ]
    },
    {
     "data": {
      "text/plain": [
       "{'a': 1, 'b': 2, 'c': 3, 'd': 4, 'e': 5, 'f': 6}"
      ]
     },
     "execution_count": 81,
     "metadata": {},
     "output_type": "execute_result"
    }
   ],
   "source": [
    "# copy方法\n",
    "# copy方法返回字典的浅拷贝\n",
    "dict7 = {'a': 1, 'b': 2, 'c': 3, 'd': 4, 'e': 5, 'f': 6}\n",
    "print(dict7)\n",
    "dict8 = {}\n",
    "print(dict8)\n",
    "dict8 = dict7.copy()\n",
    "dict8"
   ]
  },
  {
   "cell_type": "code",
   "execution_count": 82,
   "metadata": {},
   "outputs": [
    {
     "name": "stdout",
     "output_type": "stream",
     "text": [
      "{'a': 1, 'b': 2, 'c': 3, 'd': 4, 'e': 5, 'f': 6}\n",
      "1\n",
      "None\n"
     ]
    }
   ],
   "source": [
    "# .get()方法\n",
    "# get方法返回字典中指定键的值，如果键不存在，则返回默认值\n",
    "dict9 = {'a': 1, 'b': 2, 'c': 3, 'd': 4, 'e': 5, 'f': 6}\n",
    "print(dict9)\n",
    "print(dict9.get('a'))\n",
    "print(dict9.get('g'))"
   ]
  },
  {
   "cell_type": "code",
   "execution_count": 83,
   "metadata": {},
   "outputs": [
    {
     "name": "stdout",
     "output_type": "stream",
     "text": [
      "dict_items([('a', 1), ('b', 2), ('c', 3), ('d', 4), ('e', 5), ('f', 6)])\n"
     ]
    }
   ],
   "source": [
    "# .item()\n",
    "dict10 = {'a': 1, 'b': 2, 'c': 3, 'd': 4, 'e': 5, 'f': 6}\n",
    "print(dict10.items())"
   ]
  },
  {
   "cell_type": "code",
   "execution_count": 84,
   "metadata": {},
   "outputs": [
    {
     "name": "stdout",
     "output_type": "stream",
     "text": [
      "dict_keys(['a', 'b', 'c', 'd', 'e', 'f'])\n",
      "<class 'dict_keys'>\n"
     ]
    }
   ],
   "source": [
    "# .keys()\n",
    "dict11 = {'a': 1, 'b': 2, 'c': 3, 'd': 4, 'e': 5, 'f': 6}\n",
    "key11 = dict11.keys()\n",
    "print(key11)\n",
    "print(type(key11))"
   ]
  },
  {
   "cell_type": "code",
   "execution_count": 87,
   "metadata": {},
   "outputs": [
    {
     "name": "stdout",
     "output_type": "stream",
     "text": [
      "{'a': 7, 'b': 2, 'c': 3, 'd': 4, 'e': 5, 'f': 6, 'g': 8}\n",
      "{'a': 7, 'b': 2, 'c': 3, 'd': 4, 'e': 5, 'f': 6, 'g': 8, 'h': 100}\n"
     ]
    }
   ],
   "source": [
    "# .update()\n",
    "dict12 = {'a': 1, 'b': 2, 'c': 3, 'd': 4, 'e': 5, 'f': 6}\n",
    "# 可以更新字典中已存在的键值对\n",
    "dict12.update({'a': 7, 'g': 8})\n",
    "print(dict12)\n",
    "# 也可以添加新的键值对\n",
    "dict12.update({'h': 100})\n",
    "print(dict12)"
   ]
  },
  {
   "cell_type": "code",
   "execution_count": null,
   "metadata": {},
   "outputs": [
    {
     "name": "stdout",
     "output_type": "stream",
     "text": [
      "dict_values([1, 2, 3, 4, 5, 6])\n",
      "<class 'dict_values'>\n",
      "[1, 2, 3, 4, 5, 6]\n",
      "<class 'list'>\n",
      "1\n"
     ]
    }
   ],
   "source": [
    "# .values()\n",
    "# 以list的方式返回字典中的所有值\n",
    "dict13 = {'a': 1, 'b': 2, 'c': 3, 'd': 4, 'e': 5, 'f': 6}\n",
    "print(dict13.values())\n",
    "print(type(dict13.values()))\n",
    "\n",
    "value13 = list(dict13.values())\n",
    "print(value13)\n",
    "print(type(value13))\n",
    "print(value13[0])"
   ]
  },
  {
   "cell_type": "markdown",
   "metadata": {},
   "source": [
    "**不能用数组的方式访问字典的值**"
   ]
  },
  {
   "cell_type": "code",
   "execution_count": 100,
   "metadata": {},
   "outputs": [
    {
     "ename": "KeyError",
     "evalue": "0",
     "output_type": "error",
     "traceback": [
      "\u001b[1;31m---------------------------------------------------------------------------\u001b[0m",
      "\u001b[1;31mKeyError\u001b[0m                                  Traceback (most recent call last)",
      "Cell \u001b[1;32mIn[100], line 2\u001b[0m\n\u001b[0;32m      1\u001b[0m dict14 \u001b[38;5;241m=\u001b[39m {\u001b[38;5;124m'\u001b[39m\u001b[38;5;124ma\u001b[39m\u001b[38;5;124m'\u001b[39m: \u001b[38;5;241m1\u001b[39m, \u001b[38;5;124m'\u001b[39m\u001b[38;5;124mb\u001b[39m\u001b[38;5;124m'\u001b[39m: \u001b[38;5;241m2\u001b[39m, \u001b[38;5;124m'\u001b[39m\u001b[38;5;124mc\u001b[39m\u001b[38;5;124m'\u001b[39m: \u001b[38;5;241m3\u001b[39m, \u001b[38;5;124m'\u001b[39m\u001b[38;5;124md\u001b[39m\u001b[38;5;124m'\u001b[39m: \u001b[38;5;241m4\u001b[39m, \u001b[38;5;124m'\u001b[39m\u001b[38;5;124me\u001b[39m\u001b[38;5;124m'\u001b[39m: \u001b[38;5;241m5\u001b[39m, \u001b[38;5;124m'\u001b[39m\u001b[38;5;124mf\u001b[39m\u001b[38;5;124m'\u001b[39m: \u001b[38;5;241m6\u001b[39m}\n\u001b[1;32m----> 2\u001b[0m \u001b[38;5;28mprint\u001b[39m(\u001b[43mdict14\u001b[49m\u001b[43m[\u001b[49m\u001b[38;5;241;43m0\u001b[39;49m\u001b[43m]\u001b[49m)\n",
      "\u001b[1;31mKeyError\u001b[0m: 0"
     ]
    }
   ],
   "source": [
    "dict14 = {'a': 1, 'b': 2, 'c': 3, 'd': 4, 'e': 5, 'f': 6}\n",
    "print(dict14[0])"
   ]
  },
  {
   "cell_type": "code",
   "execution_count": 1,
   "metadata": {},
   "outputs": [
    {
     "data": {
      "text/plain": [
       "[1, 3, 5, 7, 9]"
      ]
     },
     "execution_count": 1,
     "metadata": {},
     "output_type": "execute_result"
    }
   ],
   "source": [
    "a = [1,2,3,4,5,6,7,8,9,10]\n",
    "a[:-1:2]"
   ]
  },
  {
   "cell_type": "code",
   "execution_count": 2,
   "metadata": {},
   "outputs": [
    {
     "data": {
      "text/plain": [
       "[1, 3, 5, 7, 9]"
      ]
     },
     "execution_count": 2,
     "metadata": {},
     "output_type": "execute_result"
    }
   ],
   "source": [
    "a[:10:2]"
   ]
  },
  {
   "cell_type": "code",
   "execution_count": 4,
   "metadata": {},
   "outputs": [
    {
     "name": "stdout",
     "output_type": "stream",
     "text": [
      "'hello world'\n"
     ]
    }
   ],
   "source": [
    "print(\"'hello world'\")"
   ]
  },
  {
   "cell_type": "code",
   "execution_count": 5,
   "metadata": {},
   "outputs": [
    {
     "name": "stdout",
     "output_type": "stream",
     "text": [
      "a is True\n"
     ]
    }
   ],
   "source": [
    "a = True\n",
    "if a:\n",
    "        print(\"a is True\")"
   ]
  },
  {
   "cell_type": "code",
   "execution_count": 6,
   "metadata": {},
   "outputs": [],
   "source": [
    "x = 'R\\0S\\0T'"
   ]
  },
  {
   "cell_type": "code",
   "execution_count": 10,
   "metadata": {},
   "outputs": [
    {
     "name": "stdout",
     "output_type": "stream",
     "text": [
      "\u0000\n"
     ]
    }
   ],
   "source": [
    "print('\\0')"
   ]
  },
  {
   "cell_type": "code",
   "execution_count": 12,
   "metadata": {},
   "outputs": [
    {
     "name": "stdout",
     "output_type": "stream",
     "text": [
      "R\u0000S\u0000T\n"
     ]
    }
   ],
   "source": [
    "print(x)"
   ]
  },
  {
   "cell_type": "code",
   "execution_count": 13,
   "metadata": {},
   "outputs": [
    {
     "name": "stdout",
     "output_type": "stream",
     "text": [
      "Hello\u0000World\n"
     ]
    }
   ],
   "source": [
    "s = \"Hello\\0World\"\n",
    "print(s)\n"
   ]
  },
  {
   "cell_type": "code",
   "execution_count": 14,
   "metadata": {},
   "outputs": [],
   "source": [
    "if '\\0' == 0:\n",
    "    print(\"True\")\n",
    "    "
   ]
  },
  {
   "cell_type": "code",
   "execution_count": 15,
   "metadata": {},
   "outputs": [
    {
     "name": "stdout",
     "output_type": "stream",
     "text": [
      "False\n"
     ]
    }
   ],
   "source": [
    "print(0.1 + 0.2 == 0.3)"
   ]
  },
  {
   "cell_type": "code",
   "execution_count": null,
   "metadata": {},
   "outputs": [],
   "source": []
  }
 ],
 "metadata": {
  "kernelspec": {
   "display_name": "base",
   "language": "python",
   "name": "python3"
  },
  "language_info": {
   "codemirror_mode": {
    "name": "ipython",
    "version": 3
   },
   "file_extension": ".py",
   "mimetype": "text/x-python",
   "name": "python",
   "nbconvert_exporter": "python",
   "pygments_lexer": "ipython3",
   "version": "3.10.9"
  }
 },
 "nbformat": 4,
 "nbformat_minor": 2
}
