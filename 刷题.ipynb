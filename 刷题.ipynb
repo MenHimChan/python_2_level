{
 "cells": [
  {
   "cell_type": "code",
   "execution_count": null,
   "metadata": {},
   "outputs": [],
   "source": [
    "# 浮点数不能直接拿来比较大小\n",
    "print(0.1 + 0.2 == 0.3)\n",
    "print(0.1 + 0.2)\n",
    "print(1.5 + 2.1 == 3.6)"
   ]
  },
  {
   "cell_type": "code",
   "execution_count": null,
   "metadata": {},
   "outputs": [],
   "source": [
    "print(True <= 1)\n",
    "print(True <= 5)"
   ]
  },
  {
   "cell_type": "code",
   "execution_count": null,
   "metadata": {},
   "outputs": [],
   "source": [
    "# ''型字符串和\"\"型字符串相加\n",
    "a = '1' + \"2341234\"\n",
    "print(a)\n",
    "# 字符串类型只能相加不能相减\n",
    "_1 = '123'\n",
    "_2 = '1234'\n",
    "_2 - _1"
   ]
  },
  {
   "cell_type": "code",
   "execution_count": null,
   "metadata": {},
   "outputs": [],
   "source": [
    "# 字符串也不能相乘\n",
    "_1 * _2"
   ]
  },
  {
   "cell_type": "code",
   "execution_count": null,
   "metadata": {},
   "outputs": [],
   "source": [
    "# 但是可以*整数\n",
    "_1 * 2"
   ]
  },
  {
   "cell_type": "code",
   "execution_count": null,
   "metadata": {},
   "outputs": [],
   "source": [
    "# 打印复数\n",
    "print(complex(10.99))"
   ]
  },
  {
   "cell_type": "code",
   "execution_count": null,
   "metadata": {},
   "outputs": [],
   "source": [
    "# .title函数\n",
    "s = \"python is good\"\n",
    "s.title()"
   ]
  },
  {
   "cell_type": "code",
   "execution_count": null,
   "metadata": {},
   "outputs": [],
   "source": [
    "# dict的key必须为不可变类型\n",
    "d = {[1,2]: 'a'}"
   ]
  },
  {
   "cell_type": "code",
   "execution_count": null,
   "metadata": {},
   "outputs": [],
   "source": [
    "# for i in range()\n",
    "# range() 函数左开右闭\n",
    "a = [x for x in range(1,5)]\n",
    "a"
   ]
  },
  {
   "cell_type": "code",
   "execution_count": null,
   "metadata": {},
   "outputs": [],
   "source": [
    "# id()函数\n",
    "# id() 函数用于获取对象的内存地址\n",
    "a = 1\n",
    "print(id(a))\n",
    "type(id(a))"
   ]
  },
  {
   "cell_type": "code",
   "execution_count": null,
   "metadata": {},
   "outputs": [],
   "source": [
    "# type(type('1'))\n",
    "type(type('1'))"
   ]
  },
  {
   "cell_type": "code",
   "execution_count": null,
   "metadata": {},
   "outputs": [],
   "source": [
    "# from random import * \n",
    "from random import *\n",
    "random.randint(1,10)        # 不能用random.xxx()"
   ]
  },
  {
   "cell_type": "code",
   "execution_count": null,
   "metadata": {},
   "outputs": [],
   "source": [
    "from random import *\n",
    "randint(1,10)"
   ]
  },
  {
   "cell_type": "code",
   "execution_count": null,
   "metadata": {},
   "outputs": [],
   "source": [
    "# 直接import\n",
    "import random\n",
    "random.randint(1,10)"
   ]
  },
  {
   "cell_type": "code",
   "execution_count": null,
   "metadata": {},
   "outputs": [],
   "source": [
    "# divmod()\n",
    "# 返回一个元组，第一个元素是除法的整数部分，第二个元素是除法的余数部分\n",
    "divmod(10,3)"
   ]
  },
  {
   "cell_type": "code",
   "execution_count": null,
   "metadata": {},
   "outputs": [],
   "source": [
    "# round()\n",
    "# 四舍五入\n",
    "print(round(3.1415926))       \n",
    "print(round(3.1415926,2))       # 第二个从参数是保留两位小数"
   ]
  },
  {
   "cell_type": "code",
   "execution_count": null,
   "metadata": {},
   "outputs": [],
   "source": [
    "# max()参数是字典的时候，返回的是字典的key的最大值\n",
    "max({1:5,5:1})"
   ]
  },
  {
   "cell_type": "code",
   "execution_count": null,
   "metadata": {},
   "outputs": [],
   "source": [
    "# time.ctime()\n",
    "import time\n",
    "print(type(time.ctime()))\n",
    "time.ctime()"
   ]
  },
  {
   "cell_type": "code",
   "execution_count": null,
   "metadata": {},
   "outputs": [],
   "source": [
    "# 复数加法\n",
    "x = 1 + 2j\n",
    "y = 1 - 2j\n",
    "x + y"
   ]
  },
  {
   "cell_type": "code",
   "execution_count": null,
   "metadata": {},
   "outputs": [],
   "source": [
    "# 运算优先级\n",
    "# ** > * = // = %\n",
    "3**2*5//6%7"
   ]
  },
  {
   "cell_type": "code",
   "execution_count": null,
   "metadata": {},
   "outputs": [],
   "source": [
    "# 集合相减 ———— 返回差集\n",
    "# 在s1中但是不在s2中\n",
    "s1 = {1,2,3}\n",
    "s2 = {2,3,4}\n",
    "s1 - s2"
   ]
  },
  {
   "cell_type": "code",
   "execution_count": null,
   "metadata": {},
   "outputs": [],
   "source": [
    "# str.split()\n",
    "# 以参数为分隔符切分字符串，并返回一个切分的列表\n",
    "str1 = \"hello world\"\n",
    "x = str1.split('e')\n",
    "print(type(x))\n",
    "x"
   ]
  },
  {
   "cell_type": "code",
   "execution_count": null,
   "metadata": {},
   "outputs": [],
   "source": [
    "# 浮点 // 浮点 = 浮点\n",
    "# 浮点 // 整数 = 浮点\n",
    "# 整数 // 浮点 = 浮点\n",
    "# 整数 // 整数 = 整数\n",
    "print(3.0//2.0)\n",
    "print(3.0//2)\n",
    "print(3//2.0)\n",
    "print(3//2)"
   ]
  },
  {
   "cell_type": "code",
   "execution_count": null,
   "metadata": {},
   "outputs": [],
   "source": [
    "# x,y = y,x是合法的\n",
    "x = 1\n",
    "y = 2\n",
    "x,y = y,x\n",
    "print(x,y)"
   ]
  },
  {
   "cell_type": "code",
   "execution_count": null,
   "metadata": {},
   "outputs": [],
   "source": [
    "# str.find()\n",
    "# para1: 要查找的子字符串\n",
    "# para2: 起始位置\n",
    "# para3: 结束位置\n",
    "# PS. 若para2和para3不写，则默认从0开始，到字符串末尾结束\n",
    "# 查找子字符串，若找到字串则返回子字符串的起始位置\n",
    "# 若未找到则返回-1\n",
    "\n",
    "str1 = \"hello world\"\n",
    "x = str1.find('llo', 1, 5)\n",
    "x"
   ]
  },
  {
   "cell_type": "code",
   "execution_count": null,
   "metadata": {},
   "outputs": [],
   "source": [
    "# str.strip\n",
    "# 注意：该方法只能删除开头或是结尾的字符，不能删除中间部分的字符。\n",
    "# 语法：str.strip([chars]);\n",
    "# 不填参数：去掉字符串首尾的空格\n",
    "# 填参数：去掉字符串首尾的参数\n",
    "# 不能去掉中间的参数\n",
    "str1 = \"@*hello world*@\"\n",
    "\n",
    "x = str1.strip('*')\n",
    "print(x)\n",
    "y = str1.strip('@')\n",
    "print(y)\n"
   ]
  },
  {
   "cell_type": "code",
   "execution_count": null,
   "metadata": {},
   "outputs": [],
   "source": [
    "# str.center()\n",
    "# 语法：str.center(width[, fillchar])\n",
    "# width：最终输出字符串的总宽度\n",
    "# fillchar：填充字符，默认是空格\n",
    "str1 = \"hello world\"\n",
    "x = str1.center(20, '*')\n",
    "x"
   ]
  },
  {
   "cell_type": "code",
   "execution_count": null,
   "metadata": {},
   "outputs": [],
   "source": [
    "# 1、str.format基本用法\n",
    "\n",
    "# 　　（1）不带编号，即“{}”\n",
    "\n",
    "# 　　（2）带数字编号，可调换顺序，即“{1}”、“{2}”\n",
    "\n",
    "# 　　（3）带关键字，即“{a}”、“{tom}”\n",
    "\n",
    "print('{} {}'.format('hello','world')) # 不带字段 \n",
    "print('{0} {1}'.format('hello','world')) # 带数字编号 \n",
    "print('{0} {1} {0}'.format('hello','world')) # 打乱顺序 \n",
    "print('{1} {1} {0}'.format('hello','world')) \n",
    "print('{a} {tom} {a}'.format(tom='hello',a='world')) # 带关键字 "
   ]
  },
  {
   "cell_type": "code",
   "execution_count": null,
   "metadata": {},
   "outputs": [],
   "source": [
    "# in关键字\n",
    "x = '12' in '123'\n",
    "y = '0' in '123'\n",
    "z = '13' in '123'\n",
    "print(x,y,z)"
   ]
  },
  {
   "cell_type": "code",
   "execution_count": null,
   "metadata": {},
   "outputs": [],
   "source": [
    "# string.printable\n",
    "# 打印所有可打印字符\n",
    "import string\n",
    "print(string.printable)"
   ]
  },
  {
   "cell_type": "code",
   "execution_count": null,
   "metadata": {},
   "outputs": [],
   "source": [
    "# 二分枝精简结构\n",
    "# 表达式1 if 条件 else 表达式2\n",
    "x = 5\n",
    "result = \"Positive\" if x > 0 else \"Negative\"\n",
    "print(result)"
   ]
  },
  {
   "cell_type": "code",
   "execution_count": null,
   "metadata": {},
   "outputs": [],
   "source": [
    "'0' <= 'i' <= '9'"
   ]
  },
  {
   "cell_type": "code",
   "execution_count": null,
   "metadata": {},
   "outputs": [],
   "source": [
    "# str.replace\n",
    "# 语法：str.replace(old, new[, max])\n",
    "# old：被替换的子字符串\n",
    "# new：替换old的字符串\n",
    "# max：替换的次数，默认是全部替换\n",
    "# 返回值：替换后的字符串\n",
    "str1 = \"hello world\"\n",
    "str1.replace('l', 'L')      \n",
    "str1                        # 对原来的字符串不产生影响"
   ]
  },
  {
   "cell_type": "code",
   "execution_count": null,
   "metadata": {},
   "outputs": [],
   "source": [
    "# str.join()\n",
    "# 功能：将str中的元素插入到seq序列的每个元素之间，并返回一个字符串\n",
    "# 注意seq序列中一定要为字符串类型\n",
    "# 语法：str.join(sequence)\n",
    "# sequence：要连接的字符串序列\n",
    "# 返回值：连接后的字符串\n",
    "s1 = \"-\"\n",
    "s2 = \"\"\n",
    "\n",
    "# \n",
    "seq = (\"r\", \"u\", \"n\", \"o\", \"o\", \"b\") # 字符串序列\n",
    "print (s1.join( seq ))\n",
    "print (s2.join( seq ))"
   ]
  },
  {
   "cell_type": "code",
   "execution_count": null,
   "metadata": {},
   "outputs": [],
   "source": [
    "# list.remove()\n",
    "# 语法：list.remove(obj)\n",
    "# obj：要移除的对象\n",
    "# 返回值：无\n",
    "# 注意：该方法只能删除第一个匹配的对象，如果要删除所有匹配的对象，需要使用循环结构，且会让后续的元素前移。\n",
    "letter = ['a', 'b', 'c', 'd', 'd', 'd']\n",
    "letter.remove('d')\n",
    "print(letter)\n",
    "\n",
    "letter = ['a', 'b', 'c', 'd', 'd', 'd']\n",
    "for i in letter:\n",
    "    if i == 'd':\n",
    "        letter.remove(i)\n",
    "\n",
    "print(letter)"
   ]
  },
  {
   "cell_type": "code",
   "execution_count": null,
   "metadata": {},
   "outputs": [],
   "source": [
    "# dict.values是dict_values这个专门的类\n",
    "dictx = {1: 'a', 2: 'b', 3: 'c'}\n",
    "x = dictx.values()\n",
    "print(x,type(x))\n"
   ]
  },
  {
   "cell_type": "code",
   "execution_count": null,
   "metadata": {},
   "outputs": [],
   "source": [
    "# 用int来转化浮点数就是直接砍掉小数部分\n",
    "int(3.2)"
   ]
  },
  {
   "cell_type": "code",
   "execution_count": null,
   "metadata": {},
   "outputs": [],
   "source": [
    "start = 2\n",
    "n = 0\n",
    "while start <= 10:\n",
    "    start += 2\n",
    "    n += 1\n",
    "print(n)"
   ]
  },
  {
   "cell_type": "code",
   "execution_count": null,
   "metadata": {},
   "outputs": [],
   "source": [
    "# is 关键字\n",
    "# is关键字用于判断两个变量是否引用同一个对象，是不是同一个内存地址\n",
    "# 等价于id()函数，id(a) == id(b)\n",
    "\n",
    "# 小的数有缓存机制，是true\n",
    "x = 123\n",
    "y = 123\n",
    "print(\"x is y = {}\".format(x is y))\n",
    "\n",
    "x = 1231251234\n",
    "z = x               # 直接赋值就是引用相同的一个对象\n",
    "y = 1231251234\n",
    "print(\"x is y = {}\".format(x is y))\n",
    "print(\"x is z = {}\".format(x is z))\n",
    "\n",
    "a = [1, 2, 3]\n",
    "b = a          # b 和 a 指向同一个列表\n",
    "c = [1, 2, 3]  # c 是一个新列表，值与 a 相同\n",
    "\n",
    "print(\"a is b = {}\".format(a is b))   # True（同一对象）\n",
    "print(\"a == b = {}\".format(a == b))   # True（值相同）\n",
    "print(\"a is c = {}\".format(a is c))   # True（值相同）\n",
    "print(\"a == c = {}\".format(a == c))   # True（值相同）\n"
   ]
  },
  {
   "cell_type": "code",
   "execution_count": null,
   "metadata": {},
   "outputs": [],
   "source": [
    "# list1 赋值给 list2：\n",
    "# 关键点解释\n",
    "# 变量是对象的引用\n",
    "# img1 和 img2 是变量名，存储的是对列表对象的引用（内存地址），而不是列表本身。\n",
    "# 执行 img1 = img2 后，img1 和 img2 指向同一个列表对象（即 [1, 2, 3, 4]）。\n",
    "\n",
    "\n",
    "img1 = [12, 34, 56]  # 初始 img1 指向列表 [12, 34, 56]\n",
    "img2 = [1, 2, 3, 4]  # 初始 img2 指向列表 [1, 2, 3, 4]\n",
    "\n",
    "img1 = img2          # img1 现在和 img2 指向同一个列表 [1, 2, 3, 4]\n",
    "img1.append(5)       # 向这个共享列表添加 5\n",
    "\n",
    "print(img2)          # 输出 [1, 2, 3, 4, 5]"
   ]
  },
  {
   "cell_type": "code",
   "execution_count": null,
   "metadata": {},
   "outputs": [],
   "source": [
    "# global 关键字 \n",
    "# global 关键字用于声明全局变量，在函数内部修改全局变量时需要使用 global 关键字\n",
    "# 语法：global 变量名\n",
    "# 定义在函数外部的本身就是全局变量\n",
    "# 定义在函数内部的变量默认是局部变量"
   ]
  },
  {
   "cell_type": "code",
   "execution_count": null,
   "metadata": {},
   "outputs": [],
   "source": [
    "a = 10\n",
    "b = 1\n",
    "c = b / a   # c = 0.1，无法精确存储，所以c = 0.10000000000000001\n",
    "b // c      # 实际的c值比0.1大一点点，所以b // c 略小于10， 向下取整为9"
   ]
  },
  {
   "cell_type": "code",
   "execution_count": null,
   "metadata": {},
   "outputs": [],
   "source": [
    "# 负步长切片\n",
    "a = [0, 1, 2, 3, 4]\n",
    "print(a[::-1])                        # 输出 [4, 3, 2, 1, 0]\n",
    "print(a[-1:-len(a) - 1:-1])           # 输出 [4, 3, 2, 1, 0]\n",
    "print(a[None:None:-1])                # 输出 [4, 3, 2, 1, 0]"
   ]
  },
  {
   "cell_type": "code",
   "execution_count": null,
   "metadata": {},
   "outputs": [],
   "source": [
    "# 格式化输出字符串s, 宽度为30，居中对齐，填充字符为*。\n",
    "# 请在______处使用一行代码或表达式替换\n",
    "\n",
    "# 注意：请不要修改其他已给出代码\n",
    "\n",
    "s = input(\"请输入一个字符串:\")\n",
    "print(\"{:*^30}\".format(s))"
   ]
  },
  {
   "cell_type": "code",
   "execution_count": null,
   "metadata": {},
   "outputs": [],
   "source": [
    "# 请在______处使用一行代码或表达式替换\n",
    "#\n",
    "# 注意：请不要修改其他已给出代码\n",
    "\n",
    "a, b = 0, 1\n",
    "while a <= 50:\n",
    "    print(a, end=',')\n",
    "    a, b = b, a + b"
   ]
  },
  {
   "cell_type": "code",
   "execution_count": null,
   "metadata": {},
   "outputs": [],
   "source": [
    "# 请在______处使用一行代码或表达式替换\n",
    "#\n",
    "# 注意：请不要修改其他已给出代码\n",
    "# 我爱老师 -> 老师爱我\n",
    "import jieba\n",
    "txt = input(\"请输入一段中文文本:\")\n",
    "ls = jieba.lcut(txt)\n",
    "print(ls)\n",
    "for i in ls[::-1]:\n",
    "    print(i,end='')\n"
   ]
  },
  {
   "cell_type": "code",
   "execution_count": null,
   "metadata": {},
   "outputs": [],
   "source": [
    "import turtle\n",
    "\n",
    "for i in range(3):\n",
    "    turtle.seth(120 * i)\n",
    "    turtle.forward(100)"
   ]
  },
  {
   "cell_type": "code",
   "execution_count": null,
   "metadata": {},
   "outputs": [],
   "source": [
    "# 以下代码为提示框架\n",
    "# 请在...处使用一行或多行代码替换\n",
    "# 请在______处使用一行代码替换\n",
    "# 输入：苹果 芒果 草莓 芒果 苹果 草莓 芒果 香蕉 芒果 草莓\n",
    "# 注意：提示框架代码可以任意修改，以完成程序功能为准\n",
    "\n",
    "fo = open(\"PY202.txt\",\"w\")\n",
    "txt = input(\"请输入类型序列: \")\n",
    "fruits = txt.split(\" \")     \n",
    "d = {}\n",
    "print(fruits)\n",
    "\n",
    "for fruit in fruits:\n",
    "    d[fruit] = d.get(fruit, 0) + 1\n",
    "\n",
    "ls = list(d.items())\n",
    "ls.sort(key=lambda x:x[1], reverse=True)  # 按照数量排序\n",
    "for k in ls:\n",
    "   fo.write(\"{}:{}\\n\".format(k[0], k[1]))\n",
    "fo.close()\n"
   ]
  },
  {
   "cell_type": "code",
   "execution_count": null,
   "metadata": {},
   "outputs": [],
   "source": [
    "fo = open(\"PY202.txt\",\"w\")\n",
    "txt = input(\"请输入类型序列: \")\n",
    "fruits = txt.split(\" \")\n",
    "d = {}\n",
    "for fruit in fruits:\n",
    "    d[fruit] = d.get(fruit,0) + 1\n",
    "ls = list(d.items())\n",
    "ls.sort(key=lambda x:x[1], reverse=True)  # 按照数量排序\n",
    "for k in ls:\n",
    "     fo.write(\"{}:{}\\n\".format(k[0], k[1]))\n",
    "fo.close()"
   ]
  },
  {
   "cell_type": "code",
   "execution_count": null,
   "metadata": {},
   "outputs": [],
   "source": [
    "# 套卷2-基本操作题2\n",
    "import jieba\n",
    "s = input(\"请输入一个字符串\")\n",
    "n = len(s) \n",
    "m = len(jieba.lcut(s))\n",
    "print(\"中文字符数为{}，中文词语数为{}。\".format(n, m))"
   ]
  },
  {
   "cell_type": "code",
   "execution_count": null,
   "metadata": {},
   "outputs": [],
   "source": [
    "# 套卷2-基本操作题3\n",
    "n = eval(input(\"请输入数量：\"))\n",
    "\n",
    "if n == 1:\n",
    "    cost = 150\n",
    "elif n == 2 or n == 3:\n",
    "    cost = n*150*0.9\n",
    "elif n >= 4 and n <= 9:\n",
    "    cost = n*150*0.8\n",
    "elif n>= 10:\n",
    "    cost = n*150*0.7\n",
    "cost = int(cost)\n",
    "\n",
    "print(\"总额为:\",cost)\n"
   ]
  },
  {
   "cell_type": "code",
   "execution_count": null,
   "metadata": {},
   "outputs": [],
   "source": [
    "# 套卷2-简单应用题1\n",
    "\n",
    "from turtle import *\n",
    "for i in range(5):  \n",
    "   fd(200)\n",
    "   right(144)\n"
   ]
  },
  {
   "cell_type": "code",
   "execution_count": null,
   "metadata": {},
   "outputs": [],
   "source": [
    "# 套卷2-简单应用题2\n",
    "\n",
    "fo = open(\"PY202.txt\",\"w\")\n",
    "data = input(\"请输入一组人员的姓名、性别、年龄：\")  # 姓名 性别 年龄\n",
    "women_num = 0\n",
    "tatal_age = 0\n",
    "person_num = 0\n",
    "while data:\n",
    "    name,sex,age = data.split(' ')      # 姓名 性别 年龄\n",
    "    if sex == '女':\n",
    "        women_num += 1\n",
    "    tatal_age += int(age)\n",
    "    person_num += 1\n",
    "    data = input(\"请输入一组人员的姓名、性别、年龄：\")\n",
    "average_age = tatal_age / person_num\n",
    "fo.write(\"平均年龄是{:.1f} 女性人数是{}\".format(average_age, women_num))\n",
    "fo.close()\n"
   ]
  },
  {
   "cell_type": "code",
   "execution_count": null,
   "metadata": {},
   "outputs": [],
   "source": [
    "# 套卷2-综合应用题1 \n",
    "\n",
    "fi = open(\"PY301-vacations.csv\",\"r\")\n",
    "ls = []\n",
    "for line in fi:\n",
    "    line = line.strip()             # 去掉行尾的换行符\n",
    "    split_line = line.split(',')    # 按逗号分隔，返回一个列表\n",
    "    ls.append(split_line)\n",
    "# print(ls)\n",
    "s = input(\"请输入节假日名称:\")\n",
    "for _ in ls:\n",
    "    if s == _[1]:\n",
    "        print(\"{}的假期位于{}-{}之间\".format(_[1], _[2], _[3]))\n",
    "fi.close()"
   ]
  },
  {
   "cell_type": "code",
   "execution_count": null,
   "metadata": {},
   "outputs": [],
   "source": [
    "# 套卷2-综合应用题2\n",
    "\n",
    "f = open(\"PY301-vacations.csv\",\"r\")\n",
    "ls = []\n",
    "for line in f:\n",
    "    line = line.strip()             # 去掉行尾的换行符\n",
    "    split_line = line.split(',')    # 按逗号分隔，返回一个列表\n",
    "    ls.append(split_line)\n",
    "f.close()\n",
    "\n",
    "while True:\n",
    "    data = input(\"请输入节假日序号：\")\n",
    "    input_idx = data.split(' ')\n",
    "    # print(input_idx)\n",
    "\n",
    "    for i in input_idx:\n",
    "        for j in ls:\n",
    "            if i == j[0]:\n",
    "                print(\"{}({})假期是{}月{}日至{}月{}日之间\".format(j[1], j[0], j[2][0:2], j[2][2:4], j[3][0:2], j[3][2:4]))\n",
    "f.close()"
   ]
  },
  {
   "cell_type": "code",
   "execution_count": null,
   "metadata": {},
   "outputs": [],
   "source": [
    "# 套卷2-综合应用题3\n",
    "\n",
    "f = open(\"PY301-vacations.csv\",\"r\")\n",
    "ls = []\n",
    "for line in f:\n",
    "    line = line.strip()             # 去掉行尾的换行符\n",
    "    split_line = line.split(',')    # 按逗号分隔，返回一个列表\n",
    "    ls.append(split_line)\n",
    "\n",
    "f.close()\n",
    "\n",
    "while True:\n",
    "    data = input(\"请输入节假日序号：\")\n",
    "    input_idx = data.split(' ')\n",
    "    for i in input_idx:\n",
    "        _ = int(i)\n",
    "        if _ > 7 or _ < 1:\n",
    "            print(\"输入节假日编号有误！\")\n",
    "            continue\n",
    "        for j in ls:\n",
    "            if i == j[0]:\n",
    "                print(\"{}({})假期是{}月{}日至{}月{}日之间\".format(j[1], j[0], j[2][0:2], j[2][2:4], j[3][0:2], j[3][2:4]))\n"
   ]
  },
  {
   "cell_type": "code",
   "execution_count": null,
   "metadata": {},
   "outputs": [],
   "source": [
    "# 套卷3-基本操作题1\n",
    "\n",
    "n = eval(input(\"请输入正整数:\"))\n",
    "print(\"{:@>30,}\".format(n))"
   ]
  },
  {
   "cell_type": "code",
   "execution_count": null,
   "metadata": {},
   "outputs": [],
   "source": [
    "# 套卷3-基本操作题2\n",
    "\n",
    "a = [11,3,8]\n",
    "b =  eval(input()) #例如：[4,5,2]\n",
    "s = 0\n",
    "for i in range(3):\n",
    "    s += a[i]*b[i]\n",
    "print(s)\n"
   ]
  },
  {
   "cell_type": "code",
   "execution_count": null,
   "metadata": {},
   "outputs": [],
   "source": [
    "# 套卷3-基本操作题3\n",
    "\n",
    "import random\n",
    "random.seed(255)\n",
    "for i in range(5):\n",
    "    print(random.randint(1, 50), end=\" \")"
   ]
  },
  {
   "cell_type": "code",
   "execution_count": null,
   "metadata": {},
   "outputs": [],
   "source": [
    "# 套卷3-简单应用题1\n",
    "\n",
    "import turtle\n",
    "turtle.pensize(2)\n",
    "d = 72\n",
    "for i in range(5):\n",
    "    turtle.seth(d)\n",
    "    d += 72\n",
    "    turtle.fd(200)"
   ]
  },
  {
   "cell_type": "code",
   "execution_count": null,
   "metadata": {},
   "outputs": [],
   "source": [
    "# 套卷3-简单应用题2\n",
    "# 护士 旅游 老师 护士 老师 老师\n",
    "fo = open(\"PY202.txt\",\"w\")\n",
    "names=input(\"请输入各个同学行业名称，行业名称之间用空格间隔（回车结束输入）：\")\n",
    "names=names.split(\" \")      # names: ['护士', '旅游', '老师', '护士', '老师', '老师']\n",
    "# print(names)\n",
    "d = {}\n",
    "for name in names:\n",
    "    d[name] = d.get(name, 0) + 1        # 统计dict中某个键的数量\n",
    "# print(d)                  # d: {'护士': 2, '旅游': 1, '老师': 3}\n",
    "ls = list(d.items())\n",
    "# print(ls)                   # ls: [('护士', 2), ('旅游', 1), ('老师', 3)]\n",
    "ls.sort(key=lambda x:x[1], reverse=True) # 按照数量排序\n",
    "for k in ls:\n",
    "    fo.write(\"{}:{}\\n\".format(k[0], k[1]))\n",
    "fo.close()\n"
   ]
  },
  {
   "cell_type": "code",
   "execution_count": null,
   "metadata": {},
   "outputs": [],
   "source": [
    "# 套卷3-综合应用题1 \n",
    "\n",
    "# 以下代码为提示框架\n",
    "# 请在...处使用一行或多行代码替换\n",
    "# 请在______处使用一行代码替换\n",
    "#\n",
    "# 注意：提示框架代码可以任意修改，以完成程序功能为准\n",
    "\n",
    "\n",
    "fi = open(\"论语.txt\", \"r\")\n",
    "fo = open(\"论语-原文.txt\", \"w\")\n",
    "flag = False        \n",
    "for line in fi:\n",
    "    if \"【注释】\" in line:\n",
    "        flag = False\n",
    "    if \"【原文】\" in line:\n",
    "        flag = True\n",
    "        continue\n",
    "    if flag == True:\n",
    "        fo.write(line.lstrip())\n",
    "fi.close()\n",
    "fo.close()"
   ]
  },
  {
   "cell_type": "code",
   "execution_count": null,
   "metadata": {},
   "outputs": [],
   "source": [
    "# 套卷3-综合应用题2\n",
    "\n",
    "# 以下代码为提示框架\n",
    "# 请在...处使用一行或多行代码替换\n",
    "# 请在______处使用一行代码替换\n",
    "#\n",
    "# 注意：提示框架代码可以任意修改，以完成程序功能为准\n",
    "# .replace() 函数   替换字符串中的指定值 示例：str.replace(\"old\", \"new\")  将字符串中的 old 替换为 new\n",
    "\n",
    "fi = open(\"论语-原文.txt\", \"r\")\n",
    "fo = open(\"论语-提纯原文.txt\", \"w\")\n",
    "for line in fi:\n",
    "    for i in range(30):\n",
    "        line=line.replace(\"({})\".format(i),\"\")\n",
    "    fo.write(line)\n",
    "fi.close()\n",
    "fo.close()"
   ]
  },
  {
   "cell_type": "code",
   "execution_count": null,
   "metadata": {},
   "outputs": [],
   "source": [
    "# 套卷4 -基本操作题1\n",
    "\n",
    "# 请在______处使用一行代码或表达式替换\n",
    "# \n",
    "# 注意：请不要修改其他已给出代码\n",
    "\n",
    "ntxt = input(\"请输入4个数字(空格分隔):\")\n",
    "nls = ntxt.split(\" \")\n",
    "x0 = eval(nls[0])\n",
    "y0 = eval(nls[1])\n",
    "x1 = eval(nls[2])\n",
    "y1 = eval(nls[3])\n",
    "r = pow(pow(x1-x0, 2) + pow(y1-y0, 2), 0.5) \n",
    "print(\"{:.1f}\".format(r))\n"
   ]
  },
  {
   "cell_type": "code",
   "execution_count": null,
   "metadata": {},
   "outputs": [],
   "source": [
    "# 套卷4 -基本操作题2\n",
    "# 黑化肥发灰会挥发\n",
    "\n",
    "import jieba\n",
    "txt = input(\"请输入一段中文文本:\")            # 原中文序列\n",
    "ls = jieba.lcut(txt)                        # 分词后的序列\n",
    "print(\"{:.1f}\".format(len(txt)/len(ls)))    # 文本总长度 / 分词后的长度"
   ]
  },
  {
   "cell_type": "code",
   "execution_count": null,
   "metadata": {},
   "outputs": [],
   "source": [
    "# 套卷4 -基本操作题3\n",
    "\n",
    "# 请在______处使用一行代码或表达式替换\n",
    "#\n",
    "# 注意：请不要修改其他已给出代码\n",
    "\n",
    "n = eval(input(\"请输入一个数字:\"))\n",
    "print(\"{:+^11}\".format(chr(n - 1) + chr(n) + chr(n + 1)))\n"
   ]
  },
  {
   "cell_type": "code",
   "execution_count": null,
   "metadata": {},
   "outputs": [],
   "source": [
    "# 套卷4 - 简单应用题1\n",
    "\n",
    "import turtle\n",
    "d = 0\n",
    "for i in range(4):  \n",
    "    turtle.fd(200)\n",
    "    d = 90 * (i + 1)\n",
    "    turtle.seth(d)"
   ]
  },
  {
   "cell_type": "code",
   "execution_count": null,
   "metadata": {},
   "outputs": [],
   "source": [
    "# 套卷4 - 简单应用题2\n",
    "fo = open(\"PY202.txt\",\"w\")\n",
    "data = input(\"请输入课程名及对应的成绩：\")  # 课程名 考分\n",
    "score_dict = {}      # 字典: 数据类型：{“科目”： 分数}\n",
    "while data:\n",
    "    data_split = data.split(\" \")    # 切片成['数学', '98']\n",
    "    score_dict[data_split[0]] = int(data_split[1])      # 插入元素到字典\n",
    "    data = input(\"请输入课程名及对应的成绩：\")\n",
    "ls = list(score_dict.items())           # 转换成列表\n",
    "ls.sort(key=lambda x: x[1], reverse=True) # 根据第二个元素降序排列，从大到小 [('数学', 98), ('英语', 94), ('语文', 89), ('科学', 87), ('物理', 74)]\n",
    "highest_subject = ls[0][0]\n",
    "highest_score = ls[0][1]\n",
    "lowest_subject = ls[-1][0]\n",
    "lowest_score = ls[-1][1]\n",
    "total_score = 0\n",
    "for i in ls:\n",
    "    total_score += i[1]\n",
    "fo.write(\"最高分课程是{}{},最低分课程是{}{},平均分是{:.2f}\".format(highest_subject,highest_score,lowest_subject,lowest_score, total_score / len(ls)))\n",
    "fo.close()"
   ]
  },
  {
   "cell_type": "code",
   "execution_count": null,
   "metadata": {},
   "outputs": [],
   "source": [
    "# 套卷4 - 综合题1\n",
    "\n",
    "# 以下代码为提示框架\n",
    "# 请在...处使用一行或多行代码替换\n",
    "# 请在______处使用一行代码替换\n",
    "#\n",
    "# 注意：提示框架代码可以任意修改，以完成程序功能为准\n",
    "\n",
    "fi = open(\"sensor.txt\", \"r\")\n",
    "fo = open(\"earpa001.txt\", \"w\")\n",
    "for line in fi:\n",
    "    line = line.strip(\"\\n\")     # 干掉换行符\n",
    "    split_line = line.split(\",\")     # ['2016/5/31 0:05', ' vawelon001', '1', '1']\n",
    "    if split_line[1] == ' earpa001':\n",
    "        fo.write('{},{},{},{}\\n'.format(split_line[0],split_line[1],split_line[2],split_line[3]))\n",
    "fi.close()\n",
    "fo.close()"
   ]
  },
  {
   "cell_type": "code",
   "execution_count": null,
   "metadata": {},
   "outputs": [],
   "source": [
    "# 套卷4 - 综合题1\n",
    "\n",
    "# 以下代码为提示框架\n",
    "# 请在...处使用一行或多行代码替换\n",
    "# 请在______处使用一行代码替换\n",
    "#\n",
    "# 注意：提示框架代码可以任意修改，以完成程序功能为准\n",
    "\n",
    "fi = open(\"earpa001.txt\", \"r\")\n",
    "fo = open(\"earpa001_count.txt\", \"w\")\n",
    "d = {}\n",
    "for line in fi:\n",
    "  line = line.strip(\"\\n\")   \n",
    "  split_line = line.split(\",\")            # ['2016/5/31 0:20', ' earpa001', '1', '1']\n",
    "  key = split_line[2] + '-' + split_line[3]   \n",
    "  d[key] = d.get(key, 0) + 1              # {'1-1': 3, '1-6': 2}\n",
    "\n",
    "ls = list(d.items())                      # [('1-1', 3), ('1-6', 2)] 列表里面存放元组\n",
    "ls.sort(key=lambda x:x[1], reverse=True) # 该语句用于排序\n",
    "for i in ls:\n",
    "  fo.write('{},{}\\n'.format(i[0], i[1]))\n",
    "fi.close()\n",
    "fo.close()"
   ]
  },
  {
   "cell_type": "code",
   "execution_count": null,
   "metadata": {},
   "outputs": [],
   "source": [
    "# 套卷5 - 基本操作题1\n",
    "#请完善如下代码\n",
    "#在______填入语句\n",
    "\n",
    "s=input()\n",
    "print(\"{:=>25,}\".format(int(s)))\n"
   ]
  },
  {
   "cell_type": "code",
   "execution_count": null,
   "metadata": {},
   "outputs": [],
   "source": [
    "# 套卷5 - 基本操作题2\n",
    "\n",
    "s=input()\n",
    "print(s[::-1], end='')\n",
    "print(len(s))\n"
   ]
  },
  {
   "cell_type": "code",
   "execution_count": null,
   "metadata": {},
   "outputs": [],
   "source": [
    "# 套卷5 - 基本操作题3\n",
    "\n",
    "a, b, c = [int(x) for x in input().split(',')]\n",
    "ls = []\n",
    "for i in range(c):                  # c : 0, 1, 2, ... , c - 1\n",
    "    ls.append(a + b * i)            # \n",
    "print(ls)"
   ]
  },
  {
   "cell_type": "code",
   "execution_count": null,
   "metadata": {},
   "outputs": [],
   "source": [
    "# 套卷5 - 简单应用题1\n",
    "#请在空格处补充代码\n",
    "\n",
    "import turtle\n",
    "turtle.pensize(2)\n",
    "d=0\n",
    "for i in range(1, 13):\n",
    "    turtle.fd(40)\n",
    "    d += 30\n",
    "    turtle.seth(d)\n"
   ]
  },
  {
   "cell_type": "code",
   "execution_count": null,
   "metadata": {},
   "outputs": [],
   "source": [
    "# 套卷5 - 简单应用题2\n",
    "#请补充若干行代码，完成向量积运算\n",
    "\n",
    "ls = [111, 222, 333, 444, 555, 666, 777, 888, 999]\n",
    "lt = [999, 777, 555, 333, 111, 888, 666, 444, 222]\n",
    "s = 0\n",
    "for i in range(len(ls)):\n",
    "    s += ls[i] * lt[i]\n",
    "print(s)\n"
   ]
  },
  {
   "cell_type": "code",
   "execution_count": null,
   "metadata": {},
   "outputs": [],
   "source": [
    "# 套卷5 - 综合题\n",
    "\n",
    "# 请在...处使用多行代码替换\n",
    "# 注意：其他已给出代码仅作为提示，可以修改\n",
    "\n",
    "L=[]                          #L中的元素是学生原始成绩和总成绩\n",
    "fi = open(\"score.txt\", \"r\")\n",
    "fo = open(\"condidate0.txt\", \"w\")\n",
    "for line in fi:             # line: 1820161043 郑珉镐 68 66 83 77 56 73 61 69 66 78\\n   - str\n",
    "    line = line.strip('\\n') # line: 1820161043 郑珉镐 68 66 83 77 56 73 61 69 66 78     - str\n",
    "    split_line = line.split(' ')    # split_line: ['1820161043', '郑珉镐', '68', '66', '83', '77', '56', '73', '61', '69', '66', '78']\n",
    "    scores = sum(int(score) for score in split_line[2:12]) # 算出总分并添加到后面\n",
    "    split_line.append(scores)\n",
    "    L.append(split_line)            # 添加到列表中\n",
    "L.sort(key=lambda x:x[-1],reverse=True)   #按学生总成绩从大到小排序\n",
    "for i in range(10):\n",
    "    fo.write(' '.join(L[i][0:-1]) + '\\n')\n",
    "fi.close()\n",
    "fo.close()"
   ]
  },
  {
   "cell_type": "code",
   "execution_count": null,
   "metadata": {},
   "outputs": [],
   "source": [
    "# 套卷5 - 综合题\n",
    "\n",
    "'''\n",
    "输入文件 ： candidate0.txt\n",
    "输出文件 ： candidate.txt\n",
    "'''\n",
    "\n",
    "fi = open(\"candidate0.txt\", \"r\")\n",
    "fo = open(\"candidate.txt\", \"w\")\n",
    "write_flag = False\n",
    "for line in fi:\n",
    "    ls = line.strip('\\n').split(' ')    # ['1120161858', '房正康', '95', '96', '93', '54', '93', '100', '84', '97', '94', '87']\n",
    "    for score in ls[2:-1]:\n",
    "        if int(score) < 60:\n",
    "            write_flag = False\n",
    "            break\n",
    "    else:\n",
    "        write_flag = True\n",
    "    if write_flag:\n",
    "        fo.write(' '.join(ls[0:2]) + '\\n')\n",
    "fi.close()\n",
    "fo.close()\n"
   ]
  },
  {
   "cell_type": "code",
   "execution_count": null,
   "metadata": {},
   "outputs": [],
   "source": [
    "# 套卷6 - 基本操作题1\n",
    "\n",
    "#\n",
    "# 在____________上补充代码\n",
    "# \n",
    "\n",
    "num = input().split(\",\")\n",
    "for i in num:\n",
    "    print('{:>10}'.format(i), end='')"
   ]
  },
  {
   "cell_type": "code",
   "execution_count": null,
   "metadata": {},
   "outputs": [],
   "source": [
    "# 套卷6 - 基本操作题2\n",
    "scale = 0.0001  # 成就值增量\n",
    "\n",
    "def calv(base, day):\n",
    "    val = base * pow(1 + scale, day*(8 + 3))\n",
    "    return val\n",
    "\n",
    "print('5年后的成就值是{}'.format(int(calv(1, 5*365))))\n",
    "      \n",
    "year = 1\n",
    "while calv(1, 365*year) < 100:\n",
    "    year += 1\n",
    "    \n",
    "print('{}年后成就值是100'.format(year))"
   ]
  },
  {
   "cell_type": "code",
   "execution_count": null,
   "metadata": {},
   "outputs": [],
   "source": [
    "# 套卷6 - 基本操作题3\n",
    "\n",
    "#\n",
    "# 在____________上补充代码\n",
    "#\n",
    "\n",
    "\n",
    "while True:\n",
    "    try:\n",
    "        a = eval(input('请输入一个正整数: '))    \n",
    "        if a > 0 and type(a) == int:\n",
    "            print(a)\n",
    "            break\n",
    "        else:\n",
    "            print(\"请输入正整数\")\n",
    "    except:\n",
    "        print(\"请输入正整数\")\n"
   ]
  },
  {
   "cell_type": "code",
   "execution_count": null,
   "metadata": {},
   "outputs": [],
   "source": [
    "# 套卷6 - 简单应用题1\n",
    "#\n",
    "# 在____________上补充代码\n",
    "# 请不要修改其他代码\n",
    "#\n",
    "\n",
    "import turtle as t\n",
    "ls = [69, 292, 33, 131, 61, 254]\n",
    "X_len = 400\n",
    "Y_len = 300\n",
    "x0 = -200\n",
    "y0 = -100\n",
    "\n",
    "t.penup()\n",
    "t.goto(x0, y0)\n",
    "t.pendown()\n",
    "\n",
    "t.fd(X_len)\n",
    "t.fd(-X_len)\n",
    "t.seth(90)\n",
    "t.fd(Y_len)\n",
    "\n",
    "t.pencolor('red')\n",
    "t.pensize(5)\n",
    "for i in range(len(ls)):\n",
    "    t.penup()                   # 抬起画笔\n",
    "    t.goto(x0 + (i+1)*50, -100) # x去到对应点处，y归零\n",
    "    t.seth(90)                  # 准备画线\n",
    "    t.pendown()                 # 放下画笔\n",
    "    t.fd(ls[i])                 # 画线\n",
    "t.done()\n",
    "\n"
   ]
  },
  {
   "cell_type": "code",
   "execution_count": 28,
   "metadata": {},
   "outputs": [
    {
     "name": "stdout",
     "output_type": "stream",
     "text": [
      "Bob 234567891 1926\n"
     ]
    }
   ],
   "source": [
    "# 套卷6 - 简单应用题2\n",
    "\n",
    "# 在......上补充一行或多行代码\n",
    "# 不得修改其他代码\n",
    "#\n",
    "\n",
    "import random\n",
    "random.seed(2)\n",
    "\n",
    "pdict= {'Alice':['123456789'],\n",
    "        'Bob':['234567891'],\n",
    "        'Lily':['345678912'],\n",
    "        'Jane':['456789123']}\n",
    "\n",
    "# 法1 ：\n",
    "# name = input('请输入一个人名:')\n",
    "# info = list(pdict.items())          # [('Alice', ['123456789']), ('Bob', ['234567891']), ('Lily', ['345678912']), ('Jane', ['456789123'])]\n",
    "# for i in range(len(info)):\n",
    "#     if name == info[i][0]:\n",
    "#         yzm = str(random.randint(1000, 9999))       # 直接生成四位的随机数验证码\n",
    "#         print(\"{} {} {}\".format(info[i][0], info[i][1][0], yzm))\n",
    "#         break\n",
    "# else:\n",
    "#     print(\"对不起，您输入的用户信息不存在。\")\n",
    "\n",
    "# 法2：\n",
    "name = input('请输入一个人名:')\n",
    "if name in pdict:\n",
    "    print(name, pdict[name][0], random.randint(1000, 9999))\n",
    "else:\n",
    "    print(\"对不起，您输入的用户信息不存在。\")"
   ]
  },
  {
   "cell_type": "code",
   "execution_count": 5,
   "metadata": {},
   "outputs": [
    {
     "name": "stdout",
     "output_type": "stream",
     "text": [
      "2018:改革:31,发展:27,加强:16,创新:15,推进:14,制度:14,经济:13,坚持:12,实施:12,实现:11\n",
      "2019:改革:17,发展:17,推进:15,加强:10,创新:9,企业:8,提高:7,实施:6,取得:6,全面:6\n"
     ]
    }
   ],
   "source": [
    "# 套卷6 - 综合题1\n",
    "\n",
    "# \n",
    "# 以下代码仅供参考。\n",
    "# \n",
    "import jieba\n",
    "\n",
    "fi_1 = open(\"data2018.txt\", \"r\")\n",
    "fi_2 = open(\"data2019.txt\", \"r\")\n",
    "\n",
    "fi_1_str = fi_1.read()\n",
    "fi_1_ls = jieba.lcut(fi_1_str)      # ['（', '一', '）', '坚持', '稳中求进', '工作', '总', '基调', '，', '着力', ...]\n",
    "d = {}      \n",
    "for i in fi_1_ls:               # i: '一' 一个字符\n",
    "    if len(i) >= 2:\n",
    "        d[i] = d.get(i, 0) + 1      # 统计每个字符出现的次数，字符作为key，出现次数作为value\n",
    "# d: {'坚持': 12, '稳中求进': 1, '工作': 5, '基调': 1, '着力': 10, '创新': 15, '完善': 10, '宏观调控': 3, '经济运行': 2...}\n",
    "lt = list(d.items())\n",
    "lt.sort(key = lambda x:x[1],reverse = True) # [('改革', 31), ('发展', 27), ('加强', 16), ('创新', 15), ('推进', 14), ('制度', 14),..]   \n",
    "\n",
    "print(\"2018:\",sep='',end='')\n",
    "for idx in range(10):\n",
    "    print(\"{}:{}\".format(lt[idx][0],lt[idx][1]), sep='', end = ',' if idx >= 0 and idx <= 8 else '\\n')\n",
    "\n",
    "\n",
    "\n",
    "fi_2_str = fi_2.read()\n",
    "fi_2_ls = jieba.lcut(fi_2_str)      # ['（', '一', '）', '坚持', '稳中求进', '工作', '总', '基调', '，', '着力', ...]\n",
    "d = {}      \n",
    "for i in fi_2_ls:               # i: '一' 一个字符\n",
    "    if len(i) >= 2:\n",
    "        d[i] = d.get(i, 0) + 1      # 统计每个字符出现的次数，字符作为key，出现次数作为value\n",
    "# d: {'坚持': 12, '稳中求进': 1, '工作': 5, '基调': 1, '着力': 10, '创新': 15, '完善': 10, '宏观调控': 3, '经济运行': 2...}\n",
    "lt = list(d.items())\n",
    "lt.sort(key = lambda x:x[1],reverse = True) # [('改革', 31), ('发展', 27), ('加强', 16), ('创新', 15), ('推进', 14), ('制度', 14),..]   \n",
    "\n",
    "print(\"2019:\",sep='',end='')\n",
    "for idx in range(10):\n",
    "    print(\"{}:{}\".format(lt[idx][0],lt[idx][1]), sep='', end = ',' if idx >= 0 and idx <= 8 else '\\n')\n",
    "\n"
   ]
  },
  {
   "cell_type": "code",
   "execution_count": null,
   "metadata": {},
   "outputs": [
    {
     "name": "stdout",
     "output_type": "stream",
     "text": [
      "共有词语:实施,加强,创新,发展,改革,推进\n",
      "2019特有:取得,提高,企业,全面\n",
      "2018特有:制度,实现,坚持,经济\n"
     ]
    }
   ],
   "source": [
    "# 套卷6 - 综合题2\n",
    "\n",
    "# 以下代码仅供参考。\n",
    "# \n",
    "\n",
    "import jieba\n",
    "\n",
    "fi_1 = open(\"data2018.txt\", \"r\")\n",
    "fi_2 = open(\"data2019.txt\", \"r\")\n",
    "\n",
    "fi_1_str = fi_1.read()\n",
    "fi_1_ls = jieba.lcut(fi_1_str)      # ['（', '一', '）', '坚持', '稳中求进', '工作', '总', '基调', '，', '着力', ...]\n",
    "d = {}      \n",
    "for i in fi_1_ls:               # i: '一' 一个字符\n",
    "    if len(i) >= 2:\n",
    "        d[i] = d.get(i, 0) + 1      # 统计每个字符出现的次数，字符作为key，出现次数作为value\n",
    "# d: {'坚持': 12, '稳中求进': 1, '工作': 5, '基调': 1, '着力': 10, '创新': 15, '完善': 10, '宏观调控': 3, '经济运行': 2...}\n",
    "lt = list(d.items())\n",
    "lt.sort(key = lambda x:x[1],reverse = True) # [('改革', 31), ('发展', 27), ('加强', 16), ('创新', 15), ('推进', 14), ('制度', 14),..]   \n",
    "set_2018 = {x[0] for x in lt[0:10]}\n",
    "# set_2018  ['改革', '发展', '加强', '创新', '推进', '制度', '经济', '坚持', '实施', '实现']\n",
    "\n",
    "fi_2_str = fi_2.read()\n",
    "fi_2_ls = jieba.lcut(fi_2_str)      # ['（', '一', '）', '坚持', '稳中求进', '工作', '总', '基调', '，', '着力', ...]\n",
    "d = {}      \n",
    "for i in fi_2_ls:               # i: '一' 一个字符\n",
    "    if len(i) >= 2:\n",
    "        d[i] = d.get(i, 0) + 1      # 统计每个字符出现的次数，字符作为key，出现次数作为value\n",
    "# d: {'坚持': 12, '稳中求进': 1, '工作': 5, '基调': 1, '着力': 10, '创新': 15, '完善': 10, '宏观调控': 3, '经济运行': 2...}\n",
    "lt = list(d.items())\n",
    "lt.sort(key = lambda x:x[1],reverse = True) # [('改革', 31), ('发展', 27), ('加强', 16), ('创新', 15), ('推进', 14), ('制度', 14),..]   \n",
    "set_2019 = {x[0] for x in lt[0:10]}\n",
    "# ['改革', '发展', '推进', '加强', '创新', '企业', '提高', '实施', '取得', '全面']\n",
    "\n",
    "set_together = list(set_2018 & set_2019)\n",
    "set_uni_2019 = list(set_2019 - set_2018)\n",
    "set_uni_2018 = list(set_2018 - set_2019)\n",
    "\n",
    "print(\"共有词语:\",end='')\n",
    "for i in range(len(set_together)):\n",
    "    print(\"{}\".format(set_together[i]), end = '\\n' if i == len(set_together) - 1 else ',')\n",
    "\n",
    "print(\"2019特有:\",end='')\n",
    "for i in range(len(set_uni_2019)):\n",
    "    print(\"{}\".format(set_uni_2019[i]), end = '\\n' if i == len(set_uni_2019) - 1 else ',')\n",
    "\n",
    "print(\"2018特有:\",end='')\n",
    "for i in range(len(set_uni_2018)):\n",
    "    print(\"{}\".format(set_uni_2018[i]), end = '\\n' if i == len(set_uni_2018) - 1 else ',')\n",
    "\n",
    "# print(set_2019)# [('改革', 17), ('发展', 17), ('推进', 15), ('加强', 10), ('创新', 9), ('企业', 8), ('提高', 7), ('实施', 6), ('取得', 6), ('全面', 6)]\n",
    "# set_together = set_2019 & set_2018\n",
    "# print(set_together)\n"
   ]
  },
  {
   "cell_type": "code",
   "execution_count": null,
   "metadata": {},
   "outputs": [
    {
     "name": "stdout",
     "output_type": "stream",
     "text": [
      "01 >\n",
      "02 >>\n",
      "03 >>>\n"
     ]
    }
   ],
   "source": [
    "# 套卷7 - 基本操作题1\n",
    "\n",
    "# 在____________上补充代码\n",
    "#\n",
    "\n",
    "n = input('请输入一个正整数:')\n",
    "for i in range(1, int(n) + 1):\n",
    "    print('{:0>2} {}'.format(i, '>'*i))\n"
   ]
  },
  {
   "cell_type": "code",
   "execution_count": null,
   "metadata": {},
   "outputs": [
    {
     "name": "stdout",
     "output_type": "stream",
     "text": [
      "数字个数：4，字母个数：6\n"
     ]
    }
   ],
   "source": [
    "# 套卷7 - 基本操作题2\n",
    "# fda243fdw3\n",
    "# 在____________上补充代码\n",
    "#\n",
    "\n",
    "ns = input(\"请输入一串数据：\")\n",
    "dnum,dchr = 0, 0\n",
    "for i in ns:\n",
    "    if i.isnumeric():\n",
    "        dnum += 1\n",
    "    elif i.isalpha():\n",
    "        dchr += 1\n",
    "    else:\n",
    "        pass\n",
    "print('数字个数：{}，字母个数：{}'.format(dnum, dchr))\n"
   ]
  },
  {
   "cell_type": "code",
   "execution_count": null,
   "metadata": {},
   "outputs": [
    {
     "name": "stdout",
     "output_type": "stream",
     "text": [
      "亲爱的张三, 你的考试成绩是: 英语90, 数学87, Python语言95, 总成绩272.特此通知.\n",
      "亲爱的李四, 你的考试成绩是: 英语83, 数学80, Python语言87, 总成绩250.特此通知.\n",
      "亲爱的王五, 你的考试成绩是: 英语73, 数学57, Python语言55, 总成绩185.特此通知.\n"
     ]
    }
   ],
   "source": [
    "# 套卷7 - 基本操作题3\n",
    "#\n",
    "# 在____________上补充代码\n",
    "#\n",
    "\n",
    "\n",
    "std = [['张三',90,87,95],['李四',83,80,87],['王五',73,57,55]]\n",
    "modl = \"亲爱的{}, 你的考试成绩是: 英语{}, 数学{}, Python语言{}, 总成绩{}.特此通知.\"\n",
    "\n",
    "for st in std:\n",
    "    cnt = 0\n",
    "    for i in range(1, 4):\n",
    "        cnt += st[i]\n",
    "    print(modl.format(st[0],st[1],st[2],st[3],cnt))\n"
   ]
  },
  {
   "cell_type": "code",
   "execution_count": null,
   "metadata": {},
   "outputs": [],
   "source": [
    "# 套卷7 - 简单应用题1\n",
    "\n",
    "#\n",
    "# 在____________上补充代码\n",
    "# 请不要修改其他代码\n",
    "# \n",
    "\n",
    "import turtle as t\n",
    "import random as r\n",
    "color = ['red','orange','blue','green','purple']\n",
    "r.seed(1)\n",
    "for i in range(5):\n",
    "    rad = r.randint(20,50)          # 半径\n",
    "    x0 = r.randint(-100, 100)       \n",
    "    y0 = r.randint(-100,100)\n",
    "    t.color(r.choice(color))\n",
    "    t.penup()\n",
    "    t.goto(x0, y0)\n",
    "    t.pendown()\n",
    "    t.circle(rad)           # t.circle()\n",
    "t.done()"
   ]
  },
  {
   "cell_type": "code",
   "execution_count": null,
   "metadata": {},
   "outputs": [
    {
     "name": "stdout",
     "output_type": "stream",
     "text": [
      "k=0.024 ,filter[0]=0.100 ,img[0+0]=0.244\n",
      "k=0.690 ,filter[1]=0.800 ,img[0+1]=0.832\n",
      "k=0.780 ,filter[2]=0.100 ,img[0+2]=0.903\n",
      "k=0.083 ,filter[0]=0.100 ,img[1+0]=0.832\n",
      "k=0.806 ,filter[1]=0.800 ,img[1+1]=0.903\n",
      "k=0.820 ,filter[2]=0.100 ,img[1+2]=0.145\n",
      "k=0.090 ,filter[0]=0.100 ,img[2+0]=0.903\n",
      "k=0.206 ,filter[1]=0.800 ,img[2+1]=0.145\n",
      "k=0.232 ,filter[2]=0.100 ,img[2+2]=0.260\n",
      "k=0.014 ,filter[0]=0.100 ,img[3+0]=0.145\n",
      "k=0.223 ,filter[1]=0.800 ,img[3+1]=0.260\n",
      "k=0.268 ,filter[2]=0.100 ,img[3+2]=0.452\n",
      "0.780     0.820     0.232     0.268     "
     ]
    }
   ],
   "source": [
    "# 套卷7 - 简单应用题2\n",
    "\n",
    "#请在.....处填写一行或多行表达式或语句\n",
    "#不得修改其他代码\n",
    "# k=0.024 ,filter[0]=0.100 ,img[0+0]=0.244\n",
    "\n",
    "img = [0.244, 0.832, 0.903, 0.145, 0.26, 0.452]\n",
    "filter = [0.1,0.8,0.1]\n",
    "res = []\n",
    "for i in range(len(img)-2):         # 滑动的窗口只能滑4次 i是滑了几个单位\n",
    "    k = 0\n",
    "    for j in range(len(filter)):\n",
    "        k += filter[j] * img[j + i]     \n",
    "        print(\"k={:.3f} ,filter[{}]={:.3f} ,img[{}+{}]={:.3f}\".format(k, j, filter[j], i, j, img[i + j]))\n",
    "    res.append(k)\n",
    "for r in res:\n",
    "    print('{:<10.3f}'.format(r),end = '')\n",
    "\n"
   ]
  },
  {
   "cell_type": "code",
   "execution_count": null,
   "metadata": {},
   "outputs": [],
   "source": [
    "# 套卷7 - 综合应用题1\n",
    "\n",
    "\n",
    "import jieba\n",
    "\n",
    "f = open(\"data.txt\", \"r\", encoding='utf-8')\n",
    "data = f.read()\n",
    "f.close()\n",
    "f = open('clean.txt', \"w\")\n",
    "s = ''\n",
    "x = '，。？、‘’“”；：！（）—— \\n'       # 中文字符以及空格\n",
    "for i in data:\n",
    "    if i not in x:\n",
    "        s+=i                           \n",
    "fo = open(\"clean.txt\", \"w\")\n",
    "fo.write(s)\n",
    "fo.close()"
   ]
  },
  {
   "cell_type": "code",
   "execution_count": null,
   "metadata": {},
   "outputs": [
    {
     "name": "stdout",
     "output_type": "stream",
     "text": [
      "4.0:80,CPS:19,制造业:17,商业模式:13,工业革命:10,基础设施:9,竞争力:7,供应商:7,合作伙伴:6,意味着:6"
     ]
    }
   ],
   "source": [
    "# 套卷7 - 综合应用题2\n",
    "\n",
    "import jieba\n",
    "\n",
    "f = open(\"clean.txt\", \"r\")\n",
    "s = f.read()\n",
    "s = jieba.lcut(s)\n",
    "d = {}\n",
    "\n",
    "for i in s:\n",
    "    d[i] = d.get(i, 0) + 1          # 统计词频\n",
    "lt = list(d.items())        \n",
    "lt.sort(key = lambda x:x[1],reverse = True)     # [('的', 433), ('和', 168), ('工业', 96), ('在', 86), ('将', 81), \n",
    "cnt = 0\n",
    "result = []\n",
    "for items in lt:\n",
    "    if len(items[0]) >= 3:\n",
    "        result.append(items)\n",
    "        cnt += 1\n",
    "    if cnt == 10:\n",
    "        break\n",
    "# [('4.0', 80), ('CPS', 19), ('制造业', 17), ('商业模式', 13), ('工业革命', 10), ('基础设施', 9), ('竞争力', 7), ('供应商', 7), ('合作伙伴', 6), ('意味着', 6)]\n",
    "for i in range(len(result)):\n",
    "    print(\"{}:{}\".format(result[i][0], result[i][1]), end= '' if i == len(result) - 1 else ',')\n"
   ]
  },
  {
   "cell_type": "code",
   "execution_count": null,
   "metadata": {},
   "outputs": [
    {
     "name": "stdout",
     "output_type": "stream",
     "text": [
      "***********1234\n"
     ]
    }
   ],
   "source": [
    "# 套卷8：基本操作题1\n",
    "# 请在______处使用一行代码或表达式替换\n",
    "#\n",
    "# 注意：请不要修改其他已给出代码\n",
    "\n",
    "n = eval(input(\"请输入正整数:\"))\n",
    "print(\"{:*>15}\".format(n))\n"
   ]
  },
  {
   "cell_type": "code",
   "execution_count": 29,
   "metadata": {},
   "outputs": [
    {
     "name": "stdout",
     "output_type": "stream",
     "text": [
      "[4, 8, 12]\n"
     ]
    }
   ],
   "source": [
    "# 套卷8：基本操作题2 \n",
    "#\n",
    "# 注意：请不要修改其他已给出代码\n",
    "\n",
    "a = [3,6,9]\n",
    "b =  eval(input()) #例如：[1,2,3]\n",
    "c = []\n",
    "for i in range(3):\n",
    "    c.append(a[i] + b[i])\n",
    "print(c)\n"
   ]
  },
  {
   "cell_type": "code",
   "execution_count": 32,
   "metadata": {},
   "outputs": [
    {
     "name": "stdout",
     "output_type": "stream",
     "text": [
      "10964\n"
     ]
    }
   ],
   "source": [
    "# 套卷8：基本操作题3\n",
    "\n",
    "# 请在______处使用一行代码或表达式替换\n",
    "#\n",
    "# 注意：请不要修改其他已给出代码\n",
    "\n",
    "import random\n",
    "random.seed(0)\n",
    "s = 0\n",
    "for i in range(5):\n",
    "    n = random.randint(1, 97)  # 产生随机数\n",
    "    s = s + n**2  \n",
    "print(s)\n"
   ]
  },
  {
   "cell_type": "code",
   "execution_count": 5,
   "metadata": {},
   "outputs": [],
   "source": [
    "# 套卷8：简单应用题1\n",
    "# 请在______处使用一行代码或表达式替换\n",
    "#\n",
    "# 注意：请不要修改其他已给出代码\n",
    "\n",
    "import turtle\n",
    "turtle.pensize(2)\n",
    "d = 0\n",
    "for i in range(1, 9):\n",
    "    turtle.fd(100)\n",
    "    d += 45\n",
    "    turtle.seth(d)\n",
    "turtle.done()\n"
   ]
  },
  {
   "cell_type": "code",
   "execution_count": 17,
   "metadata": {},
   "outputs": [
    {
     "name": "stdout",
     "output_type": "stream",
     "text": [
      "有效票数为：38 当选村长村民为:冷兴鑫,票数为：1\n"
     ]
    }
   ],
   "source": [
    "# 套卷8：简单应用2\n",
    "\n",
    "f=open(\"name.txt\")\n",
    "names=f.readlines()     # ['邵冠华\\n', '瑞卡特\\n', '倪克伟\\n', '王仕琛\\n', ...]\n",
    "f.close()\n",
    "f=open(\"vote.txt\")\n",
    "votes=f.readlines()\n",
    "f.close()\n",
    "f=open(\"vote1.txt\",\"w\")\n",
    "D={}\n",
    "NUM=0\n",
    "for vote in votes:                     # <class 'str'>\n",
    "                                       #  冷兴鑫\n",
    "    num = len(vote.split())\n",
    "    if num==1 and vote in names:\n",
    "        D[vote[:-1]]=D.get(vote, 0) + 1\n",
    "        NUM+=1\n",
    "    else:\n",
    "        f.write(vote)\n",
    "f.close()     \n",
    "l=list(D.items())\n",
    "l.sort(key=lambda s:s[1], reverse=True)\n",
    "name=l[0][0]\n",
    "score=l[0][1]\n",
    "print(\"有效票数为：{} 当选村长村民为:{},票数为：{}\".format(NUM,name,score))"
   ]
  },
  {
   "cell_type": "code",
   "execution_count": null,
   "metadata": {},
   "outputs": [],
   "source": [
    "# 套卷8：综合应用题1\n",
    "# 请在______处使用一行代码或表达式替换\n",
    "#\n",
    "# 注意：请不要修改其他已给出代码\n",
    "\n",
    "import jieba\n",
    "f = open('datasgyy.txt','r')   \n",
    "lines = f.readlines()           # 返回以每一行为元素的列表 ['内容简介编辑\\n', '整个故..\\n', ....]\n",
    "f.close()\n",
    "f = open('out.txt','w')    \n",
    "for line in lines:     \n",
    "    line=line.strip()                       #删除每行首尾可能出现的空格\n",
    "    wordList = jieba.lcut(line)             #用结巴分词，对每行内容进行分词\n",
    "    f.writelines('\\n'.join(wordList))       #将分词结果存到文件out.txt中\n",
    "f.close()\n"
   ]
  },
  {
   "cell_type": "code",
   "execution_count": 37,
   "metadata": {},
   "outputs": [
    {
     "name": "stdout",
     "output_type": "stream",
     "text": [
      "曹操出现次数为:1  \n"
     ]
    }
   ],
   "source": [
    "# 套卷8：综合应用题2\n",
    "# 请在______处使用一行代码或表达式替换\n",
    "#\n",
    "# 注意：请不要修改其他已给出代码\n",
    "\n",
    "import jieba\n",
    "f = open('out.txt','r')    #以读的方式打开文件\n",
    "words = f.readlines()\n",
    "f.close()\n",
    "D={}\n",
    "for w in words:        #词频统计\n",
    "    D[w[:-1]]= D.get(w, 0) + 1\n",
    "print(\"曹操出现次数为:{}  \".format(D['曹操']))\n"
   ]
  },
  {
   "cell_type": "code",
   "execution_count": null,
   "metadata": {},
   "outputs": [
    {
     "name": "stdout",
     "output_type": "stream",
     "text": [
      "Python等级考试\n"
     ]
    }
   ],
   "source": [
    "# 套卷8：基本操作题1\n",
    "\n",
    "#\n",
    "# 在____________上补充代码\n",
    "#\n",
    "\n",
    "ls = eval(input())\n",
    "s = \"\"\n",
    "for item in ls:\n",
    "    if type(item) == type(\"香山\"):\n",
    "        s += item\n",
    "print(s)\n",
    "\n"
   ]
  },
  {
   "cell_type": "code",
   "execution_count": null,
   "metadata": {},
   "outputs": [],
   "source": [
    "# 套卷8：基本操作题2\n",
    "\n",
    "#\n",
    "# 在____________上补充代码\n",
    "#\n",
    "\n",
    "import random\n",
    "\n",
    "random.seed(25)\n",
    "n = random.randint(1, 100)\n",
    "for m in range(1,7):\n",
    "    x = eval(input(\"请输入猜测数字：\"))\n",
    "    if x == n:\n",
    "        print(\"恭喜你，猜对了！\")\n",
    "        break\n",
    "    elif  x > n:\n",
    "        print(\"大了，再试试\")\n",
    "    else:\n",
    "        print(\"小了，再试试\")\n",
    "    if m == 6:\n",
    "        print(\"谢谢！请休息后再猜\")\n"
   ]
  },
  {
   "cell_type": "code",
   "execution_count": 39,
   "metadata": {},
   "outputs": [
    {
     "name": "stdout",
     "output_type": "stream",
     "text": [
      "0.75\n"
     ]
    }
   ],
   "source": [
    "# 套卷8：基本操作题3\n",
    "\n",
    "\n",
    "def f(n):\n",
    "    s = 0\n",
    "    if s % 2:\n",
    "        for i in range(1, n+1, 2):\n",
    "            s += 1/i\n",
    "    else:\n",
    "        for i in range(2, n+1, 2):\n",
    "            s += 1/i\n",
    "    return s\n",
    "n = int(input())\n",
    "print(\"{:.2f}\".format(f(n)), )\n"
   ]
  },
  {
   "cell_type": "code",
   "execution_count": 1,
   "metadata": {},
   "outputs": [],
   "source": [
    "# 套卷8：简单应用题1\n",
    "\n",
    "#\n",
    "# 在____________上补充代码\n",
    "#\n",
    "\n",
    "import turtle as t\n",
    "color = ['red','green','blue']\n",
    "rs = [10,30,60]\n",
    "\n",
    "for i in range(3):\n",
    "    t.penup()\n",
    "    t.goto(0, -rs[i])\n",
    "    t.pendown()\n",
    "    t.pencolor(color[i])\n",
    "    t.circle(rs[i])\n",
    "t.done()\n"
   ]
  },
  {
   "cell_type": "code",
   "execution_count": null,
   "metadata": {},
   "outputs": [
    {
     "name": "stdout",
     "output_type": "stream",
     "text": [
      "月亮/河/宽宽的/河/一天/我/从/你/身旁/过\n",
      "中文词语数是：10\n",
      "\n",
      "      月亮河宽宽的河       \n",
      "      一天我从你身旁过      \n"
     ]
    }
   ],
   "source": [
    "# 套卷8：简单应用题2\n",
    "# 月亮河宽宽的河，一天我从你身旁过，\n",
    "\n",
    "import jieba\n",
    "s = input(\"请输入一段中文文本，句子之间以逗号或句号分隔：\")\n",
    "slist = jieba.lcut(s)\n",
    "m = 0\n",
    "result = []\n",
    "# print(slist)\n",
    "for i in slist:\n",
    "   if i in \"，。\":\n",
    "      continue\n",
    "   result.append(i)     # result : ['月亮', '河', '宽宽的', '河', '一天', '我', '从', '你', '身旁', '过']\n",
    "m = len(result)\n",
    "print('/'.join(result), end='')\n",
    "print(\"\\n中文词语数是：{}\\n\".format(m))\n",
    "line1 = ''.join(result[:4])   # 列表元素 -> 字符串\n",
    "line2 = ''.join(result[4:])\n",
    "print(\"{: ^20}\".format(line1))\n",
    "print(\"{: ^20}\".format(line2))"
   ]
  },
  {
   "cell_type": "code",
   "execution_count": null,
   "metadata": {},
   "outputs": [],
   "source": [
    "# 套卷8： 综合应用题1\n",
    "\n",
    "fi = open(\"dataxs.txt\", \"r\")\n",
    "fo = open(\"studs.txt\", \"w\")\n",
    "\n",
    "slist = ''\n",
    "for line in fi:\n",
    "    line = line.strip('\\n')  #  李涵剑:经济191,430\n",
    "    fo.write(\"{}\\n\".format(line[:4] + line[-3:]))\n",
    "    # slist = line[:4] + line[-3:]\n",
    "    # print(slist)\n",
    "fi.close()\n",
    "fo.close()"
   ]
  },
  {
   "cell_type": "code",
   "execution_count": 7,
   "metadata": {},
   "outputs": [
    {
     "name": "stdout",
     "output_type": "stream",
     "text": [
      "李华天:620\n"
     ]
    }
   ],
   "source": [
    "# 套卷8： 综合应用题2\n",
    "\n",
    "with open(\"studs.txt\", \"r\") as fi:\n",
    "    max_score = 0\n",
    "    max_score_id = ''\n",
    "    for line in fi:\n",
    "        name, score = line.strip().split(\":\")  # ['李涵剑', '430']\n",
    "        if int(score) > max_score:\n",
    "            max_score = int(score)\n",
    "            max_score_id = name\n",
    "\n",
    "print(\"{}:{}\".format(max_score_id, max_score))\n"
   ]
  },
  {
   "cell_type": "code",
   "execution_count": 26,
   "metadata": {},
   "outputs": [
    {
     "name": "stdout",
     "output_type": "stream",
     "text": [
      "经济191:449.20\n",
      "会计191:445.19\n",
      "机械191:454.08\n",
      "计算191:447.55\n",
      "英语191:460.08\n"
     ]
    }
   ],
   "source": [
    "# 套卷8： 综合应用题2\n",
    "\n",
    "d = {}\n",
    "\n",
    "with open(\"dataxs.txt\", \"r\") as fi:\n",
    "    for line in fi:\n",
    "        line = line.strip('\\n')\n",
    "        line = line.replace(':', ',')       # .replace 方法，将子串替换成新串\n",
    "        line = line.split(',')              # ['李涵剑', '经济191', '430']\n",
    "        data_lst = d.get(line[1], [0, 0])   # 取出键的值\n",
    "        data_lst[0] += 1\n",
    "        data_lst[1] += int(line[2])\n",
    "        d[line[1]] = data_lst               # 更新键的值\n",
    "        \n",
    "# d: {'经济191': [101, 45369], '会计191': [96, 42738], '机械191': [109, 49495], '计算191': [103, 46098], '英语191': [91, 41867]}\n",
    "d_key = [key for key in d]                  # ['经济191', '会计191', '机械191', '计算191', '英语191']\n",
    "\n",
    "for i in range(len(d_key)):\n",
    "    print(\"{}:{:.2f}\".format(d_key[i], d[d_key[i]][1] / d[d_key[i]][0]))\n",
    "\n"
   ]
  },
  {
   "cell_type": "code",
   "execution_count": 2,
   "metadata": {},
   "outputs": [
    {
     "name": "stdout",
     "output_type": "stream",
     "text": [
      "====================\n",
      "|******python******|\n"
     ]
    }
   ],
   "source": [
    "# 套卷10： 基本操作1\n",
    "\n",
    "#在____________上补充代码\n",
    "#不要修改其他代码\n",
    "\n",
    "f = input(\"请输入一个单词:\")\n",
    "print(\"{}\".format(\"=\"*20))\n",
    "print(\"|{:*^18}|\".format(f))\n",
    "\n"
   ]
  },
  {
   "cell_type": "code",
   "execution_count": 6,
   "metadata": {},
   "outputs": [
    {
     "name": "stdout",
     "output_type": "stream",
     "text": [
      "25\n"
     ]
    }
   ],
   "source": [
    "# 套卷10： 基本操作2\n",
    "\n",
    "#在____________上补充代码\n",
    "#不要修改其他代码\n",
    "\n",
    "def vfun(x,b):\n",
    "    for i in range(len(b)):\n",
    "        x += int(b[i])\n",
    "    return x\n",
    "lc = input().split(',')         # ['1', '2', '3', '4', '5']\n",
    "print(vfun(10,lc))\n",
    "\n",
    "\n"
   ]
  },
  {
   "cell_type": "code",
   "execution_count": null,
   "metadata": {},
   "outputs": [
    {
     "name": "stdout",
     "output_type": "stream",
     "text": [
      "LOVE"
     ]
    }
   ],
   "source": [
    "# 套卷10： 基本操作3\n",
    "\n",
    "#在____________上补充代码\n",
    "#不要修改其他代码\n",
    "\n",
    "ss = input(\"请输入一个字符串：\")\n",
    "for s in ss:\n",
    "    if s.isalpha():\n",
    "        print(s.upper(), end='')\n",
    "    else:\n",
    "        continue\n",
    "\n",
    "\n"
   ]
  },
  {
   "cell_type": "code",
   "execution_count": null,
   "metadata": {},
   "outputs": [],
   "source": [
    "# 套卷10： 简单应用题1\n",
    "\n",
    "#在____________上补充代码\n",
    "#不要修改其他代码\n",
    "\n",
    "import random as r\n",
    "import turtle as t\n",
    "def drawSnake(angl):\n",
    "    t.penup()\n",
    "    t.goto(0,200)\n",
    "    t.pendown()\n",
    "    t.seth(-1*angl)\n",
    "    for i in range(length):\n",
    "        t.circle(radius, angl)\n",
    "        t.circle(-radius, angl)\n",
    "\n",
    "length, radius = 3, 40\n",
    "r.seed(1)\n",
    "color = ['red','blue','purple','black']\n",
    "for i in range(4):\n",
    "    t.pencolor(r.choice(color))\n",
    "    angl = r.randint(30, 180)\n",
    "    drawSnake(angl)\n",
    "t.done()"
   ]
  },
  {
   "cell_type": "code",
   "execution_count": 27,
   "metadata": {},
   "outputs": [],
   "source": [
    "# 套卷10：简单应用题2\n",
    "\n",
    "#\n",
    "# 在____________上补充代码\n",
    "# 在……上补充一行或多行代码\n",
    "# 可以修改其他代码\n",
    "#\n",
    "\n",
    "fs = open(\"score202.txt\",\"r\",encoding='utf-8')\n",
    "ls = fs.readline().split(';')\n",
    "fb = open(\"base202.txt\",\"r\",encoding='utf-8')\n",
    "lb = fb.readline().split(';')\n",
    "fo = open(\"stud202.txt\",\"w\")\n",
    "ds = {}\n",
    "db = {}\n",
    "for l in ls:                # 100435,张三,89 str\n",
    "    data = l.split(',')     # ['100435', '张三', '89']\n",
    "    if len(data) > 1:\n",
    "        ds[data[0]] = data[1:]          \n",
    "# print(ds)         # {'100435': ['张三', '89'], '100431': ['李四', '80'], '100432': ['王红', '75'], \n",
    "for l in lb:\n",
    "    l = l.split(',')    # ['100435', '21']\n",
    "    if len(l) > 1:\n",
    "        ds[l[0]].append(l[1])       # {'100435': ['张三', '89', '21'], '100431': ['李四', '80', '19']\n",
    "\n",
    "for key in ds:\n",
    "    fo.write(\"{},{},{},{}\".format(key, ds[key][0], ds[key][1], ds[key][2]))\n",
    "    if key == list(ds.keys())[-1]:\n",
    "        break\n",
    "    fo.write(\";\")\n",
    "\n",
    "fs.close()\n",
    "fb.close()\n",
    "fo.close()\n"
   ]
  },
  {
   "cell_type": "code",
   "execution_count": null,
   "metadata": {},
   "outputs": [
    {
     "name": "stdout",
     "output_type": "stream",
     "text": [
      "2字词有490个, 其中包括：\n",
      "世间 既有 存在 发展 内在 逻辑 相联 相通 逻辑 世纪 科学\n",
      "3字词有42个, 其中包括：\n",
      "复杂性 物理学 生物学 物理学 生物学 社会学 无论是 社会学 最多能 生物体 系统性\n",
      "4字词有16个, 其中包括：\n",
      "推而广之 计算结果 哺乳动物 生态系统 生活节奏 变化无常 研究成果 异曲同工 物理学家 牛顿定律 量子力学\n",
      "2字词有490个,写入文件490个：\n",
      "3字词有42个,写入文件42个：\n",
      "4字词有16个,写入文件16个：\n"
     ]
    }
   ],
   "source": [
    "# 套卷10： 综合题\n",
    "\n",
    "#\n",
    "# 在____________上补充代码\n",
    "# 在……上补充一行或多行代码\n",
    "# 可以修改其他代码\n",
    "#\n",
    "\n",
    "# 问题1素材：\n",
    "import jieba as j\n",
    "ds = {}\n",
    "fs = open(\"datasp.txt\",\"r\")\n",
    "lss = fs.read()\n",
    "fs.close()\n",
    "                                # key: 中文词的长度， value：[] 存放这个长度下的每个值\n",
    "flag = False\n",
    "lss_cut = j.lcut(lss)           # <class 'list'> ['世间', '万物', '既有', '其', '存在', '与', ....] 最大长度为5\n",
    "for i in lss_cut:\n",
    "    if len(i) >= 2:\n",
    "        flag = not any([j.isnumeric() for j in i])        # 简洁写法\n",
    "        # for j in i:             # 检查i中是否含有数字，有的话直接置False，并推出循环\n",
    "        #     if j.isnumeric():\n",
    "        #         flag = False\n",
    "        #         break\n",
    "        # else:\n",
    "        #     flag = True\n",
    "        if flag:\n",
    "            lst = ds.get(len(i), [])     # 找到以len(i)为key，就暂存到lst中，否则初始化空列表作为他的value。\n",
    "            lst.append(i)\n",
    "            ds[len(i)] = lst\n",
    "# print(ds)\n",
    "for k in ds:\n",
    "    print(\"{}字词有{}个, 其中包括：\".format(k, len(ds[k])))\n",
    "    print(' '.join(ds[k][:11]))             # 前十个\n",
    "\n",
    "#问题2素材：\n",
    "fo = open(\"words.txt\",\"w\")\n",
    "for k in ds:\n",
    "    fo.write(\"{}\\n\".format(' '.join(ds[k])))\n",
    "    print(\"{0:}字词有{1:}个,写入文件{1:}个：\".format(k, len(ds[k])))\n",
    "\n",
    "fo.close()"
   ]
  },
  {
   "cell_type": "code",
   "execution_count": 59,
   "metadata": {},
   "outputs": [
    {
     "name": "stdout",
     "output_type": "stream",
     "text": [
      "\"\"\"\"\"\"\"\"\"\"\"\"\"\"15\"\"\"\"\"\"\"\"\"\"\"\"\"\"\n"
     ]
    }
   ],
   "source": [
    "# 套卷11： 基本操作题1\n",
    "\n",
    "#请完善如下代码，不得修改其他代码\n",
    "#PY101.py\n",
    "s = input()\n",
    "print(\"{:\\\"^30x}\".format(int(s)))"
   ]
  },
  {
   "cell_type": "code",
   "execution_count": 63,
   "metadata": {},
   "outputs": [
    {
     "name": "stdout",
     "output_type": "stream",
     "text": [
      "八\n"
     ]
    }
   ],
   "source": [
    "# 套卷11：基本操作题2\n",
    "\n",
    "#请完善如下代码,不得修改其他代码\n",
    "#在________处填写一行或多行代码\n",
    "#PY102.py\n",
    "n = input()\n",
    "s = \"〇一二三四五六七八九\"\n",
    "for c in \"0123456789\":\n",
    "     if c == n:\n",
    "        n = s[int(c)]\n",
    "print(n)\n"
   ]
  },
  {
   "cell_type": "code",
   "execution_count": null,
   "metadata": {},
   "outputs": [
    {
     "name": "stdout",
     "output_type": "stream",
     "text": [
      "8,16,32\n"
     ]
    }
   ],
   "source": [
    "# 套卷11：基本操作题3\n",
    "\n",
    "#请完善如下代码,不得修改其他代码\n",
    "#在________处填写一行代码\n",
    "\n",
    "a, b, c = [eval(x) for x in input().split(',')]        # a,b,c都是str\n",
    "# print(a, type(a))\n",
    "ls = []\n",
    "for i in range(c):\n",
    "    ls.append(str( a * pow(b, i)))\n",
    "print(\",\".join(ls))\n"
   ]
  },
  {
   "cell_type": "code",
   "execution_count": 1,
   "metadata": {},
   "outputs": [],
   "source": [
    "# 套卷11：简单应用题1\n",
    "\n",
    "'''\n",
    "在横线处补充代码，不得修改其他代码\n",
    "'''\n",
    "#PY201.py\n",
    "import turtle\n",
    "turtle.pensize(2)\n",
    "for i in range(4):\n",
    "    turtle.fd(200)\n",
    "    turtle.left(90)\n",
    "turtle.left(315)\n",
    "turtle.circle(100*pow(2,0.5))\n",
    "turtle.done()\n"
   ]
  },
  {
   "cell_type": "code",
   "execution_count": 3,
   "metadata": {},
   "outputs": [
    {
     "name": "stdout",
     "output_type": "stream",
     "text": [
      "4\n"
     ]
    }
   ],
   "source": [
    "# 套卷11：简单应用题2\n",
    "\n",
    "#请完善如下代码\n",
    "#在....处填写多行代码，不得修改其他代码\n",
    "#PY202.py\n",
    "while True: \n",
    "    s = input(\"请输入不带数字的文本:\")\n",
    "    if any([i.isnumeric() for i in s]):\n",
    "        continue\n",
    "    else:\n",
    "        break\n",
    "print(len(s))"
   ]
  },
  {
   "cell_type": "code",
   "execution_count": 1,
   "metadata": {},
   "outputs": [],
   "source": [
    "# 套卷12：综合应用题1\n",
    "\n",
    "# 请在______处使用一行或多行代码替换\n",
    "#\n",
    "# 注意：其他已给出代码仅作为提示，可以修改\n",
    "\n",
    "# ____________  # 此处可多行\n",
    "univ_lst = []\n",
    "with open(\"dataxx.txt\", \"r\") as fi:\n",
    "    for line in fi:\n",
    "        line = line.strip('\\n')\n",
    "        if 'alt=' in line:\n",
    "            # print(line)\n",
    "            begin = line.find('alt=') + 4\n",
    "            # print(line[begin:])\n",
    "            end = line.find('width=', begin, len(line) - 1) - 1\n",
    "            univ_lst.append(line[begin:end])\n",
    "            # print(line[begin:end])\n",
    "\n",
    "f = open(\"univ.txt\", \"w\")\n",
    "for i in univ_lst:\n",
    "    f.write(\"{}\\n\".format(eval(i)))\n",
    "\n",
    "f.close()\n"
   ]
  },
  {
   "cell_type": "code",
   "execution_count": null,
   "metadata": {},
   "outputs": [
    {
     "name": "stdout",
     "output_type": "stream",
     "text": [
      "北京大学\n",
      "南京大学\n",
      "浙江大学\n",
      "复旦大学\n",
      "北京航空航天大学\n",
      "武汉大学\n",
      "北京理工大学\n",
      "中国农业大学\n",
      "北京师范大学\n",
      "中央民族大学\n",
      "南开大学\n",
      "天津大学\n",
      "大连理工大学\n",
      "吉林大学\n",
      "哈尔滨工业大学\n",
      "东北大学\n",
      "同济大学\n",
      "上海交通大学\n",
      "华东师范大学\n",
      "中国人民大学\n",
      "东南大学\n",
      "北京林业大学\n",
      "中国科学技术大学\n",
      "厦门大学\n",
      "山东大学\n",
      "中国海洋大学\n",
      "华中科技大学\n",
      "湖南大学\n",
      "中南大学\n",
      "国防科技大学\n",
      "中山大学\n",
      "华南理工大学\n",
      "四川大学\n",
      "重庆大学\n",
      "电子科技大学\n",
      "西安交通大学\n",
      "西北工业大学\n",
      "西北农林科技大学\n",
      "兰州大学\n",
      "台湾新竹“清华大学”\n",
      "台湾新竹“交通大学”\n",
      "台北医学大学\n",
      "慈济大学\n",
      "中原大学\n",
      "广州大学\n",
      "北京交通大学\n",
      "北京工业大学\n",
      "北京科技大学\n",
      "北京化工大学\n",
      "中国传媒大学\n",
      "北京邮电大学\n",
      "首都经济贸易大学\n",
      "北京中医药大学\n",
      "首都师范大学\n",
      "北京外国语大学\n",
      "北京体育大学\n",
      "北京语言大学\n",
      "中央财经大学\n",
      "对外经济贸易大学\n",
      "中国政法大学\n",
      "华北电力大学\n",
      "华北电力大学（保定）\n",
      "中国石油大学（北京）\n",
      "天津师范大学\n",
      "河北科技大学\n",
      "河北师范大学\n",
      "山西大学\n",
      "太原理工大学\n",
      "内蒙古大学\n",
      "沈阳工业大学\n",
      "大连海事大学\n",
      "中国医科大学\n",
      "渤海大学\n",
      "沈阳师范大学\n",
      "东北财经大学\n",
      "东北师范大学\n",
      "黑龙江大学\n",
      "哈尔滨工程大学\n",
      "哈尔滨师范大学\n",
      "上海大学\n",
      "东华大学\n",
      "华东理工大学\n",
      "上海对外经贸大学\n",
      "上海外国语大学\n",
      "上海财经大学\n",
      "苏州大学\n",
      "南京航空航天大学\n",
      "南京理工大学\n",
      "南京邮电大学\n",
      "河海大学\n",
      "南京农业大学\n",
      "南京中医药大学\n",
      "中国药科大学\n",
      "中国人民解放军陆军工程大学\n",
      "南京师范大学\n",
      "江苏大学\n",
      "杭州电子科技大学\n",
      "浙江工业大学\n",
      "浙江理工大学\n",
      "杭州师范大学\n",
      "温州大学\n",
      "宁波大学\n",
      "浙江工商大学\n",
      "华侨大学\n",
      "福州大学\n",
      "福建农林大学\n",
      "集美大学\n",
      "福建师范大学\n",
      "南昌大学\n",
      "华东交通大学\n",
      "江西师范大学\n",
      "江西财经大学\n",
      "中国石油大学（华东）\n",
      "青岛科技大学\n",
      "郑州大学\n",
      "山东中医药大学\n",
      "河南大学\n",
      "武汉科技大学\n",
      "中国地质大学（武汉）\n",
      "武汉理工大学\n",
      "华中农业大学\n",
      "华中师范大学\n",
      "湖北大学\n",
      "中南财经政法大学\n",
      "湖南农业大学\n",
      "湖南师范大学\n",
      "暨南大学\n",
      "深圳大学\n",
      "桂林电子科技大学\n",
      "桂林理工大学\n",
      "广西民族大学\n",
      "西南交通大学\n",
      "西南石油大学\n",
      "成都信息工程大学\n",
      "成都中医药大学\n",
      "西南大学\n",
      "四川师范大学\n",
      "西南财经大学\n",
      "西南政法大学\n",
      "江苏师范大学\n",
      "云南大学\n",
      "昆明理工大学\n",
      "云南师范大学\n",
      "西北大学\n",
      "西安理工大学\n",
      "西安电子科技大学\n",
      "西安工业大学\n",
      "陕西科技大学\n",
      "西安工程大学\n",
      "长安大学\n",
      "陕西师范大学\n",
      "西安外国语大学\n",
      "第四军医大学\n",
      "西安邮电大学\n",
      "兰州交通大学\n",
      "上海工程技术大学\n",
      "成都大学\n",
      "中国人民警察大学\n",
      "大连大学\n",
      "中国矿业大学（北京）\n",
      "北京联合大学\n",
      "浙江财经大学\n",
      "重庆工商大学\n",
      "台湾云林科技大学\n",
      "国家开放大学\n",
      "中国社会科学院大学\n",
      "温州医科大学\n",
      "长江大学\n",
      "上海师范大学\n",
      "湘潭大学\n",
      "天津医科大学\n",
      "南京审计大学\n",
      "河南科技大学\n",
      "河南农业大学\n",
      "海南师范大学\n",
      "河北医科大学\n",
      "北京协和医学院\n",
      "首都体育学院\n",
      "国际关系学院\n",
      "中央音乐学院\n",
      "中国音乐学院\n",
      "保定学院\n",
      "通化师范学院\n",
      "上海体育学院\n",
      "衡阳师范学院\n",
      "长沙师范学院\n",
      "广东技术师范学院\n",
      "广西师范学院\n",
      "成都工业学院\n",
      "河西学院\n",
      "浙江万里学院\n",
      "金陵科技学院\n",
      "长沙学院\n",
      "湖北经济学院\n",
      "湖南第一师范学院\n",
      "南昌工学院\n",
      "贵州理工学院\n",
      "北京现代音乐研修学院\n",
      "河北机电职业技术学院\n",
      "浙江安防职业技术学院\n",
      "上海工艺美术职业学院\n",
      "山东职业学院\n",
      "九江职业技术学院\n",
      "南京特殊教育师范学院\n",
      "南京信息职业技术学院\n",
      "安阳工学院\n",
      "海南经贸职业技术学院\n",
      "包含大学的名称数量是176\n",
      "包含学院的名称数量是31\n"
     ]
    }
   ],
   "source": [
    "# 套卷12：综合应用题2\n",
    "\n",
    "univ_dict = {}\n",
    "with open(\"univ.txt\", \"r\") as fi:\n",
    "    for line in fi:\n",
    "        line = line.strip(\"\\n\")\n",
    "        if '大学' in line and not '大学生' in line:\n",
    "            lst = univ_dict.get('大学', [])\n",
    "            lst.append(line)\n",
    "            univ_dict['大学'] = lst\n",
    "            if '学院' in line:\n",
    "                continue\n",
    "        if '学院' in line:\n",
    "            lst = univ_dict.get('学院', [])\n",
    "            lst.append(line)\n",
    "            univ_dict['学院'] = lst\n",
    "\n",
    "for i in range(len(univ_dict['大学'])):\n",
    "    print(univ_dict['大学'][i])\n",
    "\n",
    "for i in range(len(univ_dict['学院'])):\n",
    "    print(univ_dict['学院'][i])\n",
    "\n",
    "print(\"包含大学的名称数量是{}\".format(len(univ_dict['大学'])))\n",
    "print(\"包含学院的名称数量是{}\".format(len(univ_dict['学院'])))"
   ]
  },
  {
   "cell_type": "code",
   "execution_count": null,
   "metadata": {},
   "outputs": [
    {
     "name": "stdout",
     "output_type": "stream",
     "text": [
      "=====1234=====\n"
     ]
    }
   ],
   "source": [
    "# 套卷13：基本操作题2\n",
    "\n",
    "# 请在______处使用一行代码或表达式替换\n",
    "#\n",
    "# 注意：请不要修改其他已给出代码\n",
    "\n",
    "n = eval(input(\"请输入正整数:\"))\n",
    "print(\"{:=^14}\".format(n))"
   ]
  },
  {
   "cell_type": "code",
   "execution_count": 20,
   "metadata": {},
   "outputs": [
    {
     "name": "stdout",
     "output_type": "stream",
     "text": [
      "[1, 3, 2, 6, 3, 9]\n"
     ]
    }
   ],
   "source": [
    "# 套卷13：基本操作题2\n",
    "\n",
    "# 请在______处使用一行代码或表达式替换\n",
    "#\n",
    "# 注意：请不要修改其他已给出代码\n",
    "\n",
    "a = [3,6,9]\n",
    "b = eval(input()) #例如：[1,2,3]\n",
    "j=1\n",
    "for i in range(len(a)):\n",
    "    b.insert(j, a[i])\n",
    "    j+= 2\n",
    "print(b)\n"
   ]
  },
  {
   "cell_type": "code",
   "execution_count": null,
   "metadata": {},
   "outputs": [
    {
     "name": "stdout",
     "output_type": "stream",
     "text": [
      "1051\n"
     ]
    }
   ],
   "source": [
    "# 套卷13：基本操作题3\n",
    "\n",
    "\n",
    "# 请在______处使用一行或多行代码替换\n",
    "#\n",
    "# 注意：请不要修改其他已给出代码\n",
    "\n",
    "import random\n",
    "random.seed(100)  # 此处可多行\n",
    "lst = [pow(random.randint(1, 9), 3) for _ in range(3)]\n",
    "s = 0  # \n",
    "s = lst[0] + lst[1] + lst[2]                           # 此处可多行\n",
    "print(s)\n"
   ]
  },
  {
   "cell_type": "code",
   "execution_count": 4,
   "metadata": {},
   "outputs": [],
   "source": [
    "# 套卷13：简单应用题1\n",
    "\n",
    "# 请在______处使用一行或多行代码替换\n",
    "#\n",
    "# 注意：请不要修改其他已给出代码\n",
    "\n",
    "import turtle\n",
    "turtle.pensize(2)\n",
    "d = 0\n",
    "for i in range(1, 6):\n",
    "    turtle.fd(100)\n",
    "    d += 72\n",
    "    turtle.seth(d)\n",
    "turtle.done()\n"
   ]
  },
  {
   "cell_type": "code",
   "execution_count": null,
   "metadata": {},
   "outputs": [],
   "source": [
    "# 请在______处使用一行代码或表达式替换\n",
    "#\n",
    "# 注意：请不要修改其他已给出代码\n",
    "\n",
    "f = open(\"vote.txt\")\n",
    "names = f.readlines()\n",
    "f.close()\n",
    "n = 0\n",
    "for name in _______(1)_________:\n",
    "    num = _______(2)_________\n",
    "    if _______(3)________:\n",
    "        n+=__(4)____\n",
    "print(\"有效票{}张\".format(n))\n"
   ]
  },
  {
   "cell_type": "code",
   "execution_count": null,
   "metadata": {},
   "outputs": [],
   "source": []
  },
  {
   "cell_type": "code",
   "execution_count": 2,
   "metadata": {},
   "outputs": [
    {
     "data": {
      "text/plain": [
       "[1, 2, 3, 2, 3, 4]"
      ]
     },
     "execution_count": 2,
     "metadata": {},
     "output_type": "execute_result"
    }
   ],
   "source": [
    "a = [1,2,3]\n",
    "b = [2,3,4]\n",
    "a + b"
   ]
  },
  {
   "cell_type": "code",
   "execution_count": null,
   "metadata": {},
   "outputs": [],
   "source": []
  }
 ],
 "metadata": {
  "kernelspec": {
   "display_name": "base",
   "language": "python",
   "name": "python3"
  },
  "language_info": {
   "codemirror_mode": {
    "name": "ipython",
    "version": 3
   },
   "file_extension": ".py",
   "mimetype": "text/x-python",
   "name": "python",
   "nbconvert_exporter": "python",
   "pygments_lexer": "ipython3",
   "version": "3.10.9"
  }
 },
 "nbformat": 4,
 "nbformat_minor": 2
}
